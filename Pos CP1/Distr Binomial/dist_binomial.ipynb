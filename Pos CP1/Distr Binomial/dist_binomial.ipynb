{
 "cells": [
  {
   "cell_type": "code",
   "execution_count": 24,
   "metadata": {},
   "outputs": [],
   "source": [
    "from scipy.stats import binom, expon\n",
    "import pandas as pd\n",
    "import matplotlib.pyplot as plt"
   ]
  },
  {
   "cell_type": "code",
   "execution_count": 4,
   "metadata": {},
   "outputs": [
    {
     "name": "stdout",
     "output_type": "stream",
     "text": [
      "0.11439673970486108\n"
     ]
    }
   ],
   "source": [
    "n = 20\n",
    "p = 0.3\n",
    "\n",
    "prob_binomial = binom.pmf(8, n, p)\n",
    "print(prob_binomial)"
   ]
  },
  {
   "cell_type": "code",
   "execution_count": 5,
   "metadata": {},
   "outputs": [
    {
     "name": "stdout",
     "output_type": "stream",
     "text": [
      "0.3486784401\n",
      "0.38742048899999965\n",
      "0.19371024450000007\n",
      "0.05739562799999998\n",
      "0.011160261000000006\n",
      "0.0014880347999999997\n",
      "0.00013778100000000004\n",
      "8.748000000000003e-06\n",
      "3.6449999999999996e-07\n",
      "8.999999999999995e-09\n",
      "1.0000000000000011e-10\n"
     ]
    }
   ],
   "source": [
    "lista = []\n",
    "n = 10\n",
    "p = 0.1\n",
    "for i in range(11):\n",
    "    prob_binomia = binom.pmf(i, n, p)\n",
    "    lista.append(prob_binomia)\n",
    "    print(prob_binomia)"
   ]
  },
  {
   "cell_type": "code",
   "execution_count": 23,
   "metadata": {},
   "outputs": [
    {
     "name": "stdout",
     "output_type": "stream",
     "text": [
      "3.7359999999999996e-07\n"
     ]
    }
   ],
   "source": [
    "listando = []\n",
    "choice = int(input(\"escolhe:\"))\n",
    "n = 10\n",
    "p = 0.1\n",
    "\n",
    "for i in range(choice+1, 11):\n",
    "    prob_binomia = binom.pmf(i, n, p)\n",
    "    listando.append(prob_binomia)\n",
    "soma = sum(listando)\n",
    "print(soma)"
   ]
  },
  {
   "cell_type": "code",
   "execution_count": 28,
   "metadata": {},
   "outputs": [
    {
     "name": "stdout",
     "output_type": "stream",
     "text": [
      "Probabilidade da requisição em até 2 segundos: 63.21%\n"
     ]
    }
   ],
   "source": [
    "lmbda = 0.5\n",
    "prob_exponencial = expon.cdf(2, scale=1/lmbda)\n",
    "print(f\"Probabilidade da requisição em até 2 segundos: {(prob_exponencial * 100):.2f}%\")"
   ]
  },
  {
   "cell_type": "markdown",
   "metadata": {},
   "source": [
    "Exs"
   ]
  },
  {
   "cell_type": "code",
   "execution_count": 29,
   "metadata": {},
   "outputs": [
    {
     "data": {
      "text/html": [
       "<div>\n",
       "<style scoped>\n",
       "    .dataframe tbody tr th:only-of-type {\n",
       "        vertical-align: middle;\n",
       "    }\n",
       "\n",
       "    .dataframe tbody tr th {\n",
       "        vertical-align: top;\n",
       "    }\n",
       "\n",
       "    .dataframe thead th {\n",
       "        text-align: right;\n",
       "    }\n",
       "</style>\n",
       "<table border=\"1\" class=\"dataframe\">\n",
       "  <thead>\n",
       "    <tr style=\"text-align: right;\">\n",
       "      <th></th>\n",
       "      <th>tempo_espera</th>\n",
       "      <th>avaliacoes</th>\n",
       "      <th>acertos_teste</th>\n",
       "      <th>seguidores</th>\n",
       "    </tr>\n",
       "  </thead>\n",
       "  <tbody>\n",
       "    <tr>\n",
       "      <th>0</th>\n",
       "      <td>1.877072</td>\n",
       "      <td>7.713241</td>\n",
       "      <td>3</td>\n",
       "      <td>123.783604</td>\n",
       "    </tr>\n",
       "    <tr>\n",
       "      <th>1</th>\n",
       "      <td>12.040486</td>\n",
       "      <td>5.897587</td>\n",
       "      <td>7</td>\n",
       "      <td>202.894308</td>\n",
       "    </tr>\n",
       "    <tr>\n",
       "      <th>2</th>\n",
       "      <td>5.266983</td>\n",
       "      <td>7.956237</td>\n",
       "      <td>6</td>\n",
       "      <td>274.259995</td>\n",
       "    </tr>\n",
       "    <tr>\n",
       "      <th>3</th>\n",
       "      <td>3.651770</td>\n",
       "      <td>8.232703</td>\n",
       "      <td>7</td>\n",
       "      <td>110.396738</td>\n",
       "    </tr>\n",
       "    <tr>\n",
       "      <th>4</th>\n",
       "      <td>0.678499</td>\n",
       "      <td>8.171749</td>\n",
       "      <td>6</td>\n",
       "      <td>103.059872</td>\n",
       "    </tr>\n",
       "  </tbody>\n",
       "</table>\n",
       "</div>"
      ],
      "text/plain": [
       "   tempo_espera  avaliacoes  acertos_teste  seguidores\n",
       "0      1.877072    7.713241              3  123.783604\n",
       "1     12.040486    5.897587              7  202.894308\n",
       "2      5.266983    7.956237              6  274.259995\n",
       "3      3.651770    8.232703              7  110.396738\n",
       "4      0.678499    8.171749              6  103.059872"
      ]
     },
     "execution_count": 29,
     "metadata": {},
     "output_type": "execute_result"
    }
   ],
   "source": [
    "df = pd.read_csv(\"dataset_distribuicoes_exemplo.csv\") \n",
    "df.head()"
   ]
  },
  {
   "cell_type": "code",
   "execution_count": null,
   "metadata": {},
   "outputs": [],
   "source": [
    "    "
   ]
  }
 ],
 "metadata": {
  "kernelspec": {
   "display_name": "Python 3",
   "language": "python",
   "name": "python3"
  },
  "language_info": {
   "codemirror_mode": {
    "name": "ipython",
    "version": 3
   },
   "file_extension": ".py",
   "mimetype": "text/x-python",
   "name": "python",
   "nbconvert_exporter": "python",
   "pygments_lexer": "ipython3",
   "version": "3.13.0"
  }
 },
 "nbformat": 4,
 "nbformat_minor": 2
}
