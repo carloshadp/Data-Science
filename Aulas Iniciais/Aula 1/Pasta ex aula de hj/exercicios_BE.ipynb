{
 "cells": [
  {
   "cell_type": "code",
   "execution_count": 1,
   "metadata": {},
   "outputs": [],
   "source": [
    "import pandas as pd"
   ]
  },
  {
   "cell_type": "code",
   "execution_count": 5,
   "metadata": {},
   "outputs": [],
   "source": [
    "df = pd.read_csv('D:/Estatistica e Database/Estatisticas-e-Banco-de-dados/filmes.csv')"
   ]
  },
  {
   "cell_type": "code",
   "execution_count": 6,
   "metadata": {},
   "outputs": [
    {
     "data": {
      "text/html": [
       "<div>\n",
       "<style scoped>\n",
       "    .dataframe tbody tr th:only-of-type {\n",
       "        vertical-align: middle;\n",
       "    }\n",
       "\n",
       "    .dataframe tbody tr th {\n",
       "        vertical-align: top;\n",
       "    }\n",
       "\n",
       "    .dataframe thead th {\n",
       "        text-align: right;\n",
       "    }\n",
       "</style>\n",
       "<table border=\"1\" class=\"dataframe\">\n",
       "  <thead>\n",
       "    <tr style=\"text-align: right;\">\n",
       "      <th></th>\n",
       "      <th>Título</th>\n",
       "      <th>Ano</th>\n",
       "      <th>Bilheteria_Mundial</th>\n",
       "      <th>Nota_IMDb</th>\n",
       "      <th>Duração_Minutos</th>\n",
       "      <th>Gênero</th>\n",
       "    </tr>\n",
       "  </thead>\n",
       "  <tbody>\n",
       "    <tr>\n",
       "      <th>0</th>\n",
       "      <td>O Poderoso Chefão</td>\n",
       "      <td>1972</td>\n",
       "      <td>287</td>\n",
       "      <td>9.2</td>\n",
       "      <td>175</td>\n",
       "      <td>Crime</td>\n",
       "    </tr>\n",
       "    <tr>\n",
       "      <th>1</th>\n",
       "      <td>Titanic</td>\n",
       "      <td>1997</td>\n",
       "      <td>2187</td>\n",
       "      <td>7.8</td>\n",
       "      <td>195</td>\n",
       "      <td>Romance</td>\n",
       "    </tr>\n",
       "    <tr>\n",
       "      <th>2</th>\n",
       "      <td>Interestelar</td>\n",
       "      <td>2014</td>\n",
       "      <td>701</td>\n",
       "      <td>8.6</td>\n",
       "      <td>169</td>\n",
       "      <td>Ficção Científica</td>\n",
       "    </tr>\n",
       "    <tr>\n",
       "      <th>3</th>\n",
       "      <td>Matrix</td>\n",
       "      <td>1999</td>\n",
       "      <td>466</td>\n",
       "      <td>8.7</td>\n",
       "      <td>136</td>\n",
       "      <td>Ficção Científica</td>\n",
       "    </tr>\n",
       "    <tr>\n",
       "      <th>4</th>\n",
       "      <td>Vingadores: Ultimato</td>\n",
       "      <td>2019</td>\n",
       "      <td>2798</td>\n",
       "      <td>8.4</td>\n",
       "      <td>181</td>\n",
       "      <td>Ação</td>\n",
       "    </tr>\n",
       "  </tbody>\n",
       "</table>\n",
       "</div>"
      ],
      "text/plain": [
       "                 Título   Ano  Bilheteria_Mundial  Nota_IMDb  Duração_Minutos  \\\n",
       "0     O Poderoso Chefão  1972                 287        9.2              175   \n",
       "1               Titanic  1997                2187        7.8              195   \n",
       "2          Interestelar  2014                 701        8.6              169   \n",
       "3                Matrix  1999                 466        8.7              136   \n",
       "4  Vingadores: Ultimato  2019                2798        8.4              181   \n",
       "\n",
       "              Gênero  \n",
       "0              Crime  \n",
       "1            Romance  \n",
       "2  Ficção Científica  \n",
       "3  Ficção Científica  \n",
       "4               Ação  "
      ]
     },
     "execution_count": 6,
     "metadata": {},
     "output_type": "execute_result"
    }
   ],
   "source": [
    "df.head()"
   ]
  },
  {
   "cell_type": "code",
   "execution_count": 10,
   "metadata": {},
   "outputs": [
    {
     "data": {
      "text/plain": [
       "(10, 6)"
      ]
     },
     "execution_count": 10,
     "metadata": {},
     "output_type": "execute_result"
    }
   ],
   "source": [
    "df.shape"
   ]
  },
  {
   "cell_type": "code",
   "execution_count": 33,
   "metadata": {},
   "outputs": [
    {
     "data": {
      "text/plain": [
       "2917"
      ]
     },
     "execution_count": 33,
     "metadata": {},
     "output_type": "execute_result"
    }
   ],
   "source": [
    "# Ex1 Filmes\n",
    "\n",
    "df[df['Gênero']== \"Ficção Científica\"]\n"
   ]
  },
  {
   "cell_type": "code",
   "execution_count": 23,
   "metadata": {},
   "outputs": [
    {
     "data": {
      "text/html": [
       "<div>\n",
       "<style scoped>\n",
       "    .dataframe tbody tr th:only-of-type {\n",
       "        vertical-align: middle;\n",
       "    }\n",
       "\n",
       "    .dataframe tbody tr th {\n",
       "        vertical-align: top;\n",
       "    }\n",
       "\n",
       "    .dataframe thead th {\n",
       "        text-align: right;\n",
       "    }\n",
       "</style>\n",
       "<table border=\"1\" class=\"dataframe\">\n",
       "  <thead>\n",
       "    <tr style=\"text-align: right;\">\n",
       "      <th></th>\n",
       "      <th>Título</th>\n",
       "      <th>Ano</th>\n",
       "      <th>Bilheteria_Mundial</th>\n",
       "      <th>Nota_IMDb</th>\n",
       "      <th>Duração_Minutos</th>\n",
       "      <th>Gênero</th>\n",
       "    </tr>\n",
       "  </thead>\n",
       "  <tbody>\n",
       "    <tr>\n",
       "      <th>0</th>\n",
       "      <td>O Poderoso Chefão</td>\n",
       "      <td>1972</td>\n",
       "      <td>287</td>\n",
       "      <td>9.2</td>\n",
       "      <td>175</td>\n",
       "      <td>Crime</td>\n",
       "    </tr>\n",
       "  </tbody>\n",
       "</table>\n",
       "</div>"
      ],
      "text/plain": [
       "              Título   Ano  Bilheteria_Mundial  Nota_IMDb  Duração_Minutos  \\\n",
       "0  O Poderoso Chefão  1972                 287        9.2              175   \n",
       "\n",
       "  Gênero  \n",
       "0  Crime  "
      ]
     },
     "execution_count": 23,
     "metadata": {},
     "output_type": "execute_result"
    }
   ],
   "source": [
    "# ex 2\n",
    "ano = df['Ano'].min()\n",
    "\n",
    "df[df['Ano'] == ano]\n",
    "\n"
   ]
  },
  {
   "cell_type": "code",
   "execution_count": 2,
   "metadata": {},
   "outputs": [
    {
     "ename": "NameError",
     "evalue": "name 'df' is not defined",
     "output_type": "error",
     "traceback": [
      "\u001b[1;31m---------------------------------------------------------------------------\u001b[0m",
      "\u001b[1;31mNameError\u001b[0m                                 Traceback (most recent call last)",
      "Cell \u001b[1;32mIn[2], line 2\u001b[0m\n\u001b[0;32m      1\u001b[0m \u001b[38;5;66;03m# ex3\u001b[39;00m\n\u001b[1;32m----> 2\u001b[0m \u001b[43mdf\u001b[49m[\u001b[38;5;124m'\u001b[39m\u001b[38;5;124mBilheteria_Mundial\u001b[39m\u001b[38;5;124m'\u001b[39m]\u001b[38;5;241m.\u001b[39mmean()\n",
      "\u001b[1;31mNameError\u001b[0m: name 'df' is not defined"
     ]
    }
   ],
   "source": [
    "# ex3\n",
    "df['Bilheteria_Mundial'].mean()"
   ]
  },
  {
   "cell_type": "code",
   "execution_count": 26,
   "metadata": {},
   "outputs": [
    {
     "data": {
      "text/html": [
       "<div>\n",
       "<style scoped>\n",
       "    .dataframe tbody tr th:only-of-type {\n",
       "        vertical-align: middle;\n",
       "    }\n",
       "\n",
       "    .dataframe tbody tr th {\n",
       "        vertical-align: top;\n",
       "    }\n",
       "\n",
       "    .dataframe thead th {\n",
       "        text-align: right;\n",
       "    }\n",
       "</style>\n",
       "<table border=\"1\" class=\"dataframe\">\n",
       "  <thead>\n",
       "    <tr style=\"text-align: right;\">\n",
       "      <th></th>\n",
       "      <th>Título</th>\n",
       "      <th>Ano</th>\n",
       "      <th>Bilheteria_Mundial</th>\n",
       "      <th>Nota_IMDb</th>\n",
       "      <th>Duração_Minutos</th>\n",
       "      <th>Gênero</th>\n",
       "    </tr>\n",
       "  </thead>\n",
       "  <tbody>\n",
       "    <tr>\n",
       "      <th>0</th>\n",
       "      <td>O Poderoso Chefão</td>\n",
       "      <td>1972</td>\n",
       "      <td>287</td>\n",
       "      <td>9.2</td>\n",
       "      <td>175</td>\n",
       "      <td>Crime</td>\n",
       "    </tr>\n",
       "  </tbody>\n",
       "</table>\n",
       "</div>"
      ],
      "text/plain": [
       "              Título   Ano  Bilheteria_Mundial  Nota_IMDb  Duração_Minutos  \\\n",
       "0  O Poderoso Chefão  1972                 287        9.2              175   \n",
       "\n",
       "  Gênero  \n",
       "0  Crime  "
      ]
     },
     "execution_count": 26,
     "metadata": {},
     "output_type": "execute_result"
    }
   ],
   "source": [
    "# ex4\n",
    "imdb = df['Nota_IMDb'].max()\n",
    "\n",
    "df[df['Nota_IMDb'] == imdb]"
   ]
  },
  {
   "cell_type": "code",
   "execution_count": 27,
   "metadata": {},
   "outputs": [
    {
     "data": {
      "text/html": [
       "<div>\n",
       "<style scoped>\n",
       "    .dataframe tbody tr th:only-of-type {\n",
       "        vertical-align: middle;\n",
       "    }\n",
       "\n",
       "    .dataframe tbody tr th {\n",
       "        vertical-align: top;\n",
       "    }\n",
       "\n",
       "    .dataframe thead th {\n",
       "        text-align: right;\n",
       "    }\n",
       "</style>\n",
       "<table border=\"1\" class=\"dataframe\">\n",
       "  <thead>\n",
       "    <tr style=\"text-align: right;\">\n",
       "      <th></th>\n",
       "      <th>Título</th>\n",
       "      <th>Ano</th>\n",
       "      <th>Bilheteria_Mundial</th>\n",
       "      <th>Nota_IMDb</th>\n",
       "      <th>Duração_Minutos</th>\n",
       "      <th>Gênero</th>\n",
       "    </tr>\n",
       "  </thead>\n",
       "  <tbody>\n",
       "    <tr>\n",
       "      <th>1</th>\n",
       "      <td>Titanic</td>\n",
       "      <td>1997</td>\n",
       "      <td>2187</td>\n",
       "      <td>7.8</td>\n",
       "      <td>195</td>\n",
       "      <td>Romance</td>\n",
       "    </tr>\n",
       "    <tr>\n",
       "      <th>4</th>\n",
       "      <td>Vingadores: Ultimato</td>\n",
       "      <td>2019</td>\n",
       "      <td>2798</td>\n",
       "      <td>8.4</td>\n",
       "      <td>181</td>\n",
       "      <td>Ação</td>\n",
       "    </tr>\n",
       "    <tr>\n",
       "      <th>7</th>\n",
       "      <td>O Senhor dos Anéis</td>\n",
       "      <td>2001</td>\n",
       "      <td>2917</td>\n",
       "      <td>8.8</td>\n",
       "      <td>178</td>\n",
       "      <td>Fantasia</td>\n",
       "    </tr>\n",
       "    <tr>\n",
       "      <th>0</th>\n",
       "      <td>O Poderoso Chefão</td>\n",
       "      <td>1972</td>\n",
       "      <td>287</td>\n",
       "      <td>9.2</td>\n",
       "      <td>175</td>\n",
       "      <td>Crime</td>\n",
       "    </tr>\n",
       "    <tr>\n",
       "      <th>2</th>\n",
       "      <td>Interestelar</td>\n",
       "      <td>2014</td>\n",
       "      <td>701</td>\n",
       "      <td>8.6</td>\n",
       "      <td>169</td>\n",
       "      <td>Ficção Científica</td>\n",
       "    </tr>\n",
       "    <tr>\n",
       "      <th>9</th>\n",
       "      <td>Duna</td>\n",
       "      <td>2021</td>\n",
       "      <td>402</td>\n",
       "      <td>8.0</td>\n",
       "      <td>155</td>\n",
       "      <td>Ficção Científica</td>\n",
       "    </tr>\n",
       "    <tr>\n",
       "      <th>6</th>\n",
       "      <td>Pulp Fiction</td>\n",
       "      <td>1994</td>\n",
       "      <td>213</td>\n",
       "      <td>8.9</td>\n",
       "      <td>154</td>\n",
       "      <td>Crime</td>\n",
       "    </tr>\n",
       "    <tr>\n",
       "      <th>5</th>\n",
       "      <td>Clube da Luta</td>\n",
       "      <td>1999</td>\n",
       "      <td>101</td>\n",
       "      <td>8.8</td>\n",
       "      <td>139</td>\n",
       "      <td>Drama</td>\n",
       "    </tr>\n",
       "    <tr>\n",
       "      <th>3</th>\n",
       "      <td>Matrix</td>\n",
       "      <td>1999</td>\n",
       "      <td>466</td>\n",
       "      <td>8.7</td>\n",
       "      <td>136</td>\n",
       "      <td>Ficção Científica</td>\n",
       "    </tr>\n",
       "    <tr>\n",
       "      <th>8</th>\n",
       "      <td>Coringa</td>\n",
       "      <td>2019</td>\n",
       "      <td>1074</td>\n",
       "      <td>8.4</td>\n",
       "      <td>122</td>\n",
       "      <td>Drama</td>\n",
       "    </tr>\n",
       "  </tbody>\n",
       "</table>\n",
       "</div>"
      ],
      "text/plain": [
       "                 Título   Ano  Bilheteria_Mundial  Nota_IMDb  Duração_Minutos  \\\n",
       "1               Titanic  1997                2187        7.8              195   \n",
       "4  Vingadores: Ultimato  2019                2798        8.4              181   \n",
       "7    O Senhor dos Anéis  2001                2917        8.8              178   \n",
       "0     O Poderoso Chefão  1972                 287        9.2              175   \n",
       "2          Interestelar  2014                 701        8.6              169   \n",
       "9                  Duna  2021                 402        8.0              155   \n",
       "6          Pulp Fiction  1994                 213        8.9              154   \n",
       "5         Clube da Luta  1999                 101        8.8              139   \n",
       "3                Matrix  1999                 466        8.7              136   \n",
       "8               Coringa  2019                1074        8.4              122   \n",
       "\n",
       "              Gênero  \n",
       "1            Romance  \n",
       "4               Ação  \n",
       "7           Fantasia  \n",
       "0              Crime  \n",
       "2  Ficção Científica  \n",
       "9  Ficção Científica  \n",
       "6              Crime  \n",
       "5              Drama  \n",
       "3  Ficção Científica  \n",
       "8              Drama  "
      ]
     },
     "execution_count": 27,
     "metadata": {},
     "output_type": "execute_result"
    }
   ],
   "source": [
    "# ex5\n",
    "df.sort_values(by=\"Duração_Minutos\", ascending=False)"
   ]
  },
  {
   "cell_type": "code",
   "execution_count": 28,
   "metadata": {},
   "outputs": [
    {
     "data": {
      "text/plain": [
       "11146"
      ]
     },
     "execution_count": 28,
     "metadata": {},
     "output_type": "execute_result"
    }
   ],
   "source": [
    "# ex6\n",
    "df['Bilheteria_Mundial'].sum()"
   ]
  },
  {
   "cell_type": "code",
   "execution_count": 29,
   "metadata": {},
   "outputs": [
    {
     "data": {
      "text/html": [
       "<div>\n",
       "<style scoped>\n",
       "    .dataframe tbody tr th:only-of-type {\n",
       "        vertical-align: middle;\n",
       "    }\n",
       "\n",
       "    .dataframe tbody tr th {\n",
       "        vertical-align: top;\n",
       "    }\n",
       "\n",
       "    .dataframe thead th {\n",
       "        text-align: right;\n",
       "    }\n",
       "</style>\n",
       "<table border=\"1\" class=\"dataframe\">\n",
       "  <thead>\n",
       "    <tr style=\"text-align: right;\">\n",
       "      <th></th>\n",
       "      <th>Título</th>\n",
       "      <th>Ano</th>\n",
       "      <th>Bilheteria_Mundial</th>\n",
       "      <th>Nota_IMDb</th>\n",
       "      <th>Duração_Minutos</th>\n",
       "      <th>Gênero</th>\n",
       "    </tr>\n",
       "  </thead>\n",
       "  <tbody>\n",
       "    <tr>\n",
       "      <th>3</th>\n",
       "      <td>Matrix</td>\n",
       "      <td>1999</td>\n",
       "      <td>466</td>\n",
       "      <td>8.7</td>\n",
       "      <td>136</td>\n",
       "      <td>Ficção Científica</td>\n",
       "    </tr>\n",
       "    <tr>\n",
       "      <th>5</th>\n",
       "      <td>Clube da Luta</td>\n",
       "      <td>1999</td>\n",
       "      <td>101</td>\n",
       "      <td>8.8</td>\n",
       "      <td>139</td>\n",
       "      <td>Drama</td>\n",
       "    </tr>\n",
       "    <tr>\n",
       "      <th>8</th>\n",
       "      <td>Coringa</td>\n",
       "      <td>2019</td>\n",
       "      <td>1074</td>\n",
       "      <td>8.4</td>\n",
       "      <td>122</td>\n",
       "      <td>Drama</td>\n",
       "    </tr>\n",
       "  </tbody>\n",
       "</table>\n",
       "</div>"
      ],
      "text/plain": [
       "          Título   Ano  Bilheteria_Mundial  Nota_IMDb  Duração_Minutos  \\\n",
       "3         Matrix  1999                 466        8.7              136   \n",
       "5  Clube da Luta  1999                 101        8.8              139   \n",
       "8        Coringa  2019                1074        8.4              122   \n",
       "\n",
       "              Gênero  \n",
       "3  Ficção Científica  \n",
       "5              Drama  \n",
       "8              Drama  "
      ]
     },
     "execution_count": 29,
     "metadata": {},
     "output_type": "execute_result"
    }
   ],
   "source": [
    "# ex7\n",
    "df[df['Duração_Minutos'] < 150]"
   ]
  },
  {
   "cell_type": "code",
   "execution_count": 30,
   "metadata": {},
   "outputs": [
    {
     "data": {
      "text/html": [
       "<div>\n",
       "<style scoped>\n",
       "    .dataframe tbody tr th:only-of-type {\n",
       "        vertical-align: middle;\n",
       "    }\n",
       "\n",
       "    .dataframe tbody tr th {\n",
       "        vertical-align: top;\n",
       "    }\n",
       "\n",
       "    .dataframe thead th {\n",
       "        text-align: right;\n",
       "    }\n",
       "</style>\n",
       "<table border=\"1\" class=\"dataframe\">\n",
       "  <thead>\n",
       "    <tr style=\"text-align: right;\">\n",
       "      <th></th>\n",
       "      <th>Título</th>\n",
       "      <th>Ano</th>\n",
       "      <th>Bilheteria_Mundial</th>\n",
       "      <th>Nota_IMDb</th>\n",
       "      <th>Duração_Minutos</th>\n",
       "      <th>Gênero</th>\n",
       "    </tr>\n",
       "  </thead>\n",
       "  <tbody>\n",
       "    <tr>\n",
       "      <th>2</th>\n",
       "      <td>Interestelar</td>\n",
       "      <td>2014</td>\n",
       "      <td>701</td>\n",
       "      <td>8.6</td>\n",
       "      <td>169</td>\n",
       "      <td>Ficção Científica</td>\n",
       "    </tr>\n",
       "    <tr>\n",
       "      <th>4</th>\n",
       "      <td>Vingadores: Ultimato</td>\n",
       "      <td>2019</td>\n",
       "      <td>2798</td>\n",
       "      <td>8.4</td>\n",
       "      <td>181</td>\n",
       "      <td>Ação</td>\n",
       "    </tr>\n",
       "    <tr>\n",
       "      <th>7</th>\n",
       "      <td>O Senhor dos Anéis</td>\n",
       "      <td>2001</td>\n",
       "      <td>2917</td>\n",
       "      <td>8.8</td>\n",
       "      <td>178</td>\n",
       "      <td>Fantasia</td>\n",
       "    </tr>\n",
       "    <tr>\n",
       "      <th>8</th>\n",
       "      <td>Coringa</td>\n",
       "      <td>2019</td>\n",
       "      <td>1074</td>\n",
       "      <td>8.4</td>\n",
       "      <td>122</td>\n",
       "      <td>Drama</td>\n",
       "    </tr>\n",
       "    <tr>\n",
       "      <th>9</th>\n",
       "      <td>Duna</td>\n",
       "      <td>2021</td>\n",
       "      <td>402</td>\n",
       "      <td>8.0</td>\n",
       "      <td>155</td>\n",
       "      <td>Ficção Científica</td>\n",
       "    </tr>\n",
       "  </tbody>\n",
       "</table>\n",
       "</div>"
      ],
      "text/plain": [
       "                 Título   Ano  Bilheteria_Mundial  Nota_IMDb  Duração_Minutos  \\\n",
       "2          Interestelar  2014                 701        8.6              169   \n",
       "4  Vingadores: Ultimato  2019                2798        8.4              181   \n",
       "7    O Senhor dos Anéis  2001                2917        8.8              178   \n",
       "8               Coringa  2019                1074        8.4              122   \n",
       "9                  Duna  2021                 402        8.0              155   \n",
       "\n",
       "              Gênero  \n",
       "2  Ficção Científica  \n",
       "4               Ação  \n",
       "7           Fantasia  \n",
       "8              Drama  \n",
       "9  Ficção Científica  "
      ]
     },
     "execution_count": 30,
     "metadata": {},
     "output_type": "execute_result"
    }
   ],
   "source": [
    "# ex8\n",
    "df[df['Ano'] > 2000]"
   ]
  },
  {
   "cell_type": "code",
   "execution_count": 31,
   "metadata": {},
   "outputs": [
    {
     "data": {
      "text/plain": [
       "160.4"
      ]
     },
     "execution_count": 31,
     "metadata": {},
     "output_type": "execute_result"
    }
   ],
   "source": [
    "# ex9\n",
    "df['Duração_Minutos'].mean()"
   ]
  },
  {
   "cell_type": "code",
   "execution_count": 34,
   "metadata": {},
   "outputs": [
    {
     "data": {
      "text/html": [
       "<div>\n",
       "<style scoped>\n",
       "    .dataframe tbody tr th:only-of-type {\n",
       "        vertical-align: middle;\n",
       "    }\n",
       "\n",
       "    .dataframe tbody tr th {\n",
       "        vertical-align: top;\n",
       "    }\n",
       "\n",
       "    .dataframe thead th {\n",
       "        text-align: right;\n",
       "    }\n",
       "</style>\n",
       "<table border=\"1\" class=\"dataframe\">\n",
       "  <thead>\n",
       "    <tr style=\"text-align: right;\">\n",
       "      <th></th>\n",
       "      <th>Título</th>\n",
       "      <th>Ano</th>\n",
       "      <th>Bilheteria_Mundial</th>\n",
       "      <th>Nota_IMDb</th>\n",
       "      <th>Duração_Minutos</th>\n",
       "      <th>Gênero</th>\n",
       "    </tr>\n",
       "  </thead>\n",
       "  <tbody>\n",
       "    <tr>\n",
       "      <th>7</th>\n",
       "      <td>O Senhor dos Anéis</td>\n",
       "      <td>2001</td>\n",
       "      <td>2917</td>\n",
       "      <td>8.8</td>\n",
       "      <td>178</td>\n",
       "      <td>Fantasia</td>\n",
       "    </tr>\n",
       "  </tbody>\n",
       "</table>\n",
       "</div>"
      ],
      "text/plain": [
       "               Título   Ano  Bilheteria_Mundial  Nota_IMDb  Duração_Minutos  \\\n",
       "7  O Senhor dos Anéis  2001                2917        8.8              178   \n",
       "\n",
       "     Gênero  \n",
       "7  Fantasia  "
      ]
     },
     "execution_count": 34,
     "metadata": {},
     "output_type": "execute_result"
    }
   ],
   "source": [
    "# ex10\n",
    "Bilheteria_max = df['Bilheteria_Mundial'].max()\n",
    "\n",
    "df[df['Bilheteria_Mundial']== Bilheteria_max]\n"
   ]
  },
  {
   "cell_type": "code",
   "execution_count": 38,
   "metadata": {},
   "outputs": [],
   "source": [
    "\n",
    "\n",
    "df = pd.read_csv('D:/Estatistica e Database/Estatisticas-e-Banco-de-dados/todo poderoso timão.csv')"
   ]
  },
  {
   "cell_type": "code",
   "execution_count": 41,
   "metadata": {},
   "outputs": [
    {
     "data": {
      "text/html": [
       "<div>\n",
       "<style scoped>\n",
       "    .dataframe tbody tr th:only-of-type {\n",
       "        vertical-align: middle;\n",
       "    }\n",
       "\n",
       "    .dataframe tbody tr th {\n",
       "        vertical-align: top;\n",
       "    }\n",
       "\n",
       "    .dataframe thead th {\n",
       "        text-align: right;\n",
       "    }\n",
       "</style>\n",
       "<table border=\"1\" class=\"dataframe\">\n",
       "  <thead>\n",
       "    <tr style=\"text-align: right;\">\n",
       "      <th></th>\n",
       "      <th>Ano</th>\n",
       "      <th>Jogos</th>\n",
       "      <th>Vitórias</th>\n",
       "      <th>Empates</th>\n",
       "      <th>Derrotas</th>\n",
       "      <th>Gols_Marcados</th>\n",
       "      <th>Gols_Sofridos</th>\n",
       "      <th>Posição_Campeonato</th>\n",
       "    </tr>\n",
       "  </thead>\n",
       "  <tbody>\n",
       "    <tr>\n",
       "      <th>9</th>\n",
       "      <td>2024</td>\n",
       "      <td>64</td>\n",
       "      <td>22</td>\n",
       "      <td>6</td>\n",
       "      <td>5</td>\n",
       "      <td>89</td>\n",
       "      <td>48</td>\n",
       "      <td>19</td>\n",
       "    </tr>\n",
       "  </tbody>\n",
       "</table>\n",
       "</div>"
      ],
      "text/plain": [
       "    Ano  Jogos  Vitórias  Empates  Derrotas  Gols_Marcados  Gols_Sofridos  \\\n",
       "9  2024     64        22        6         5             89             48   \n",
       "\n",
       "   Posição_Campeonato  \n",
       "9                  19  "
      ]
     },
     "execution_count": 41,
     "metadata": {},
     "output_type": "execute_result"
    }
   ],
   "source": [
    "# ex5 -- Gamba\n",
    "\n",
    "gols_max = df['Gols_Marcados'].max()\n",
    "\n",
    "df[df['Gols_Marcados'] == gols_max]"
   ]
  },
  {
   "cell_type": "code",
   "execution_count": 60,
   "metadata": {},
   "outputs": [
    {
     "name": "stdout",
     "output_type": "stream",
     "text": [
      " Ano  Média_Gols_Sofridos\n",
      "2015             0.967213\n",
      "2016             0.690476\n",
      "2017             0.594203\n",
      "2018             0.617021\n",
      "2019             0.517857\n",
      "2020             1.088889\n",
      "2021             0.408163\n",
      "2022             0.850000\n",
      "2023             0.905660\n",
      "2024             0.750000\n"
     ]
    }
   ],
   "source": [
    "# ex10 -- Gamba\n",
    "\n",
    "df['Média_Gols_Sofridos'] = df['Gols_Sofridos'] / df['Jogos']\n",
    "\n",
    "df_resultado = df[['Ano', 'Média_Gols_Sofridos']]\n",
    "\n",
    "print(df_resultado.to_string(index=False))\n",
    "\n",
    "\n",
    "\n"
   ]
  },
  {
   "cell_type": "code",
   "execution_count": 44,
   "metadata": {},
   "outputs": [
    {
     "data": {
      "text/html": [
       "<div>\n",
       "<style scoped>\n",
       "    .dataframe tbody tr th:only-of-type {\n",
       "        vertical-align: middle;\n",
       "    }\n",
       "\n",
       "    .dataframe tbody tr th {\n",
       "        vertical-align: top;\n",
       "    }\n",
       "\n",
       "    .dataframe thead th {\n",
       "        text-align: right;\n",
       "    }\n",
       "</style>\n",
       "<table border=\"1\" class=\"dataframe\">\n",
       "  <thead>\n",
       "    <tr style=\"text-align: right;\">\n",
       "      <th></th>\n",
       "      <th>Ano</th>\n",
       "      <th>Jogos</th>\n",
       "      <th>Vitórias</th>\n",
       "      <th>Empates</th>\n",
       "      <th>Derrotas</th>\n",
       "      <th>Gols_Marcados</th>\n",
       "      <th>Gols_Sofridos</th>\n",
       "      <th>Posição_Campeonato</th>\n",
       "    </tr>\n",
       "  </thead>\n",
       "  <tbody>\n",
       "    <tr>\n",
       "      <th>2</th>\n",
       "      <td>2017</td>\n",
       "      <td>69</td>\n",
       "      <td>35</td>\n",
       "      <td>6</td>\n",
       "      <td>6</td>\n",
       "      <td>58</td>\n",
       "      <td>41</td>\n",
       "      <td>10</td>\n",
       "    </tr>\n",
       "  </tbody>\n",
       "</table>\n",
       "</div>"
      ],
      "text/plain": [
       "    Ano  Jogos  Vitórias  Empates  Derrotas  Gols_Marcados  Gols_Sofridos  \\\n",
       "2  2017     69        35        6         6             58             41   \n",
       "\n",
       "   Posição_Campeonato  \n",
       "2                  10  "
      ]
     },
     "execution_count": 44,
     "metadata": {},
     "output_type": "execute_result"
    }
   ],
   "source": [
    "# ex9 -- Gamba\n",
    "Jogos = df['Jogos'].max()\n",
    "\n",
    "df[df['Jogos'] == Jogos]"
   ]
  },
  {
   "cell_type": "code",
   "execution_count": 48,
   "metadata": {},
   "outputs": [
    {
     "data": {
      "text/html": [
       "<div>\n",
       "<style scoped>\n",
       "    .dataframe tbody tr th:only-of-type {\n",
       "        vertical-align: middle;\n",
       "    }\n",
       "\n",
       "    .dataframe tbody tr th {\n",
       "        vertical-align: top;\n",
       "    }\n",
       "\n",
       "    .dataframe thead th {\n",
       "        text-align: right;\n",
       "    }\n",
       "</style>\n",
       "<table border=\"1\" class=\"dataframe\">\n",
       "  <thead>\n",
       "    <tr style=\"text-align: right;\">\n",
       "      <th></th>\n",
       "      <th>Ano</th>\n",
       "      <th>Jogos</th>\n",
       "      <th>Vitórias</th>\n",
       "      <th>Empates</th>\n",
       "      <th>Derrotas</th>\n",
       "      <th>Gols_Marcados</th>\n",
       "      <th>Gols_Sofridos</th>\n",
       "      <th>Posição_Campeonato</th>\n",
       "    </tr>\n",
       "  </thead>\n",
       "  <tbody>\n",
       "    <tr>\n",
       "      <th>0</th>\n",
       "      <td>2015</td>\n",
       "      <td>61</td>\n",
       "      <td>30</td>\n",
       "      <td>14</td>\n",
       "      <td>12</td>\n",
       "      <td>49</td>\n",
       "      <td>59</td>\n",
       "      <td>19</td>\n",
       "    </tr>\n",
       "    <tr>\n",
       "      <th>9</th>\n",
       "      <td>2024</td>\n",
       "      <td>64</td>\n",
       "      <td>22</td>\n",
       "      <td>6</td>\n",
       "      <td>5</td>\n",
       "      <td>89</td>\n",
       "      <td>48</td>\n",
       "      <td>19</td>\n",
       "    </tr>\n",
       "  </tbody>\n",
       "</table>\n",
       "</div>"
      ],
      "text/plain": [
       "    Ano  Jogos  Vitórias  Empates  Derrotas  Gols_Marcados  Gols_Sofridos  \\\n",
       "0  2015     61        30       14        12             49             59   \n",
       "9  2024     64        22        6         5             89             48   \n",
       "\n",
       "   Posição_Campeonato  \n",
       "0                  19  \n",
       "9                  19  "
      ]
     },
     "execution_count": 48,
     "metadata": {},
     "output_type": "execute_result"
    }
   ],
   "source": [
    "# ex 8 -- Gamba\n",
    "Posição_min = df['Posição_Campeonato'].max()\n",
    "\n",
    "df[df['Posição_Campeonato'] == Posição_min]"
   ]
  },
  {
   "cell_type": "code",
   "execution_count": 61,
   "metadata": {},
   "outputs": [
    {
     "name": "stdout",
     "output_type": "stream",
     "text": [
      " Ano  Pontos\n",
      "2021     117\n",
      "2022     115\n",
      "2017     111\n",
      "2019     110\n",
      "2015     104\n",
      "2020     104\n",
      "2023     103\n",
      "2018      92\n",
      "2016      91\n",
      "2024      72\n"
     ]
    }
   ],
   "source": [
    "# ex6\n",
    "df['Pontos'] = df['Vitórias'] * 3 + df['Empates']\n",
    "\n",
    "df_ordenado = df[['Ano', 'Pontos']].sort_values(by='Pontos', ascending=False)\n",
    "\n",
    "print(df_ordenado.to_string(index=False))\n"
   ]
  },
  {
   "cell_type": "code",
   "execution_count": null,
   "metadata": {},
   "outputs": [],
   "source": []
  }
 ],
 "metadata": {
  "kernelspec": {
   "display_name": "Python 3",
   "language": "python",
   "name": "python3"
  },
  "language_info": {
   "codemirror_mode": {
    "name": "ipython",
    "version": 3
   },
   "file_extension": ".py",
   "mimetype": "text/x-python",
   "name": "python",
   "nbconvert_exporter": "python",
   "pygments_lexer": "ipython3",
   "version": "3.13.0"
  }
 },
 "nbformat": 4,
 "nbformat_minor": 2
}
