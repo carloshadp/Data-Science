{
 "cells": [
  {
   "cell_type": "code",
   "execution_count": 3,
   "metadata": {},
   "outputs": [],
   "source": [
    "#Integrantes\n",
    "#Maurício Alves - rm556214\n",
    "#Carlos Henrique - rm558003"
   ]
  },
  {
   "cell_type": "code",
   "execution_count": null,
   "metadata": {},
   "outputs": [],
   "source": [
    "#Esquecemos de enviar a tarefa 🤦‍♂️"
   ]
  },
  {
   "cell_type": "markdown",
   "metadata": {},
   "source": [
    "Primeiros exercicios - Data Science & Statistics"
   ]
  },
  {
   "cell_type": "code",
   "execution_count": 5,
   "metadata": {},
   "outputs": [],
   "source": [
    "import pandas as pd"
   ]
  },
  {
   "cell_type": "markdown",
   "metadata": {},
   "source": [
    "HERÓIS"
   ]
  },
  {
   "cell_type": "code",
   "execution_count": 3,
   "metadata": {},
   "outputs": [
    {
     "data": {
      "text/html": [
       "<div>\n",
       "<style scoped>\n",
       "    .dataframe tbody tr th:only-of-type {\n",
       "        vertical-align: middle;\n",
       "    }\n",
       "\n",
       "    .dataframe tbody tr th {\n",
       "        vertical-align: top;\n",
       "    }\n",
       "\n",
       "    .dataframe thead th {\n",
       "        text-align: right;\n",
       "    }\n",
       "</style>\n",
       "<table border=\"1\" class=\"dataframe\">\n",
       "  <thead>\n",
       "    <tr style=\"text-align: right;\">\n",
       "      <th></th>\n",
       "      <th>Nome</th>\n",
       "      <th>Editora</th>\n",
       "      <th>Ano_Estreia</th>\n",
       "      <th>Força</th>\n",
       "      <th>Inteligência</th>\n",
       "      <th>Velocidade</th>\n",
       "    </tr>\n",
       "  </thead>\n",
       "  <tbody>\n",
       "    <tr>\n",
       "      <th>0</th>\n",
       "      <td>Batman</td>\n",
       "      <td>DC</td>\n",
       "      <td>1939</td>\n",
       "      <td>85</td>\n",
       "      <td>100</td>\n",
       "      <td>80</td>\n",
       "    </tr>\n",
       "    <tr>\n",
       "      <th>1</th>\n",
       "      <td>Superman</td>\n",
       "      <td>DC</td>\n",
       "      <td>1938</td>\n",
       "      <td>100</td>\n",
       "      <td>90</td>\n",
       "      <td>100</td>\n",
       "    </tr>\n",
       "    <tr>\n",
       "      <th>2</th>\n",
       "      <td>Mulher-Maravilha</td>\n",
       "      <td>DC</td>\n",
       "      <td>1941</td>\n",
       "      <td>95</td>\n",
       "      <td>92</td>\n",
       "      <td>85</td>\n",
       "    </tr>\n",
       "    <tr>\n",
       "      <th>3</th>\n",
       "      <td>Homem de Ferro</td>\n",
       "      <td>Marvel</td>\n",
       "      <td>1963</td>\n",
       "      <td>90</td>\n",
       "      <td>100</td>\n",
       "      <td>88</td>\n",
       "    </tr>\n",
       "    <tr>\n",
       "      <th>4</th>\n",
       "      <td>Capitão América</td>\n",
       "      <td>Marvel</td>\n",
       "      <td>1941</td>\n",
       "      <td>92</td>\n",
       "      <td>85</td>\n",
       "      <td>84</td>\n",
       "    </tr>\n",
       "  </tbody>\n",
       "</table>\n",
       "</div>"
      ],
      "text/plain": [
       "               Nome Editora  Ano_Estreia  Força  Inteligência  Velocidade\n",
       "0            Batman      DC         1939     85           100          80\n",
       "1          Superman      DC         1938    100            90         100\n",
       "2  Mulher-Maravilha      DC         1941     95            92          85\n",
       "3    Homem de Ferro  Marvel         1963     90           100          88\n",
       "4   Capitão América  Marvel         1941     92            85          84"
      ]
     },
     "execution_count": 3,
     "metadata": {},
     "output_type": "execute_result"
    }
   ],
   "source": [
    "df = pd.read_csv(\"A:/FIAP/2 Sem/MATÉRIAS/Data-Science/Aula 1/Pasta ex aula de hj/marvel dc.csv\")\n",
    "df.head()"
   ]
  },
  {
   "cell_type": "code",
   "execution_count": 4,
   "metadata": {},
   "outputs": [
    {
     "data": {
      "text/html": [
       "<div>\n",
       "<style scoped>\n",
       "    .dataframe tbody tr th:only-of-type {\n",
       "        vertical-align: middle;\n",
       "    }\n",
       "\n",
       "    .dataframe tbody tr th {\n",
       "        vertical-align: top;\n",
       "    }\n",
       "\n",
       "    .dataframe thead th {\n",
       "        text-align: right;\n",
       "    }\n",
       "</style>\n",
       "<table border=\"1\" class=\"dataframe\">\n",
       "  <thead>\n",
       "    <tr style=\"text-align: right;\">\n",
       "      <th></th>\n",
       "      <th>Nome</th>\n",
       "      <th>Editora</th>\n",
       "      <th>Ano_Estreia</th>\n",
       "      <th>Força</th>\n",
       "      <th>Inteligência</th>\n",
       "      <th>Velocidade</th>\n",
       "    </tr>\n",
       "  </thead>\n",
       "  <tbody>\n",
       "    <tr>\n",
       "      <th>3</th>\n",
       "      <td>Homem de Ferro</td>\n",
       "      <td>Marvel</td>\n",
       "      <td>1963</td>\n",
       "      <td>90</td>\n",
       "      <td>100</td>\n",
       "      <td>88</td>\n",
       "    </tr>\n",
       "    <tr>\n",
       "      <th>4</th>\n",
       "      <td>Capitão América</td>\n",
       "      <td>Marvel</td>\n",
       "      <td>1941</td>\n",
       "      <td>92</td>\n",
       "      <td>85</td>\n",
       "      <td>84</td>\n",
       "    </tr>\n",
       "    <tr>\n",
       "      <th>5</th>\n",
       "      <td>Hulk</td>\n",
       "      <td>Marvel</td>\n",
       "      <td>1962</td>\n",
       "      <td>100</td>\n",
       "      <td>80</td>\n",
       "      <td>75</td>\n",
       "    </tr>\n",
       "    <tr>\n",
       "      <th>7</th>\n",
       "      <td>Thor</td>\n",
       "      <td>Marvel</td>\n",
       "      <td>1962</td>\n",
       "      <td>100</td>\n",
       "      <td>90</td>\n",
       "      <td>90</td>\n",
       "    </tr>\n",
       "    <tr>\n",
       "      <th>9</th>\n",
       "      <td>Homem-Aranha</td>\n",
       "      <td>Marvel</td>\n",
       "      <td>1962</td>\n",
       "      <td>89</td>\n",
       "      <td>85</td>\n",
       "      <td>95</td>\n",
       "    </tr>\n",
       "  </tbody>\n",
       "</table>\n",
       "</div>"
      ],
      "text/plain": [
       "              Nome Editora  Ano_Estreia  Força  Inteligência  Velocidade\n",
       "3   Homem de Ferro  Marvel         1963     90           100          88\n",
       "4  Capitão América  Marvel         1941     92            85          84\n",
       "5             Hulk  Marvel         1962    100            80          75\n",
       "7             Thor  Marvel         1962    100            90          90\n",
       "9     Homem-Aranha  Marvel         1962     89            85          95"
      ]
     },
     "execution_count": 4,
     "metadata": {},
     "output_type": "execute_result"
    }
   ],
   "source": [
    "# Heróis - ex1\n",
    "df[df['Editora'] == \"Marvel\"]"
   ]
  },
  {
   "cell_type": "code",
   "execution_count": 5,
   "metadata": {},
   "outputs": [
    {
     "data": {
      "text/html": [
       "<div>\n",
       "<style scoped>\n",
       "    .dataframe tbody tr th:only-of-type {\n",
       "        vertical-align: middle;\n",
       "    }\n",
       "\n",
       "    .dataframe tbody tr th {\n",
       "        vertical-align: top;\n",
       "    }\n",
       "\n",
       "    .dataframe thead th {\n",
       "        text-align: right;\n",
       "    }\n",
       "</style>\n",
       "<table border=\"1\" class=\"dataframe\">\n",
       "  <thead>\n",
       "    <tr style=\"text-align: right;\">\n",
       "      <th></th>\n",
       "      <th>Nome</th>\n",
       "      <th>Editora</th>\n",
       "      <th>Ano_Estreia</th>\n",
       "      <th>Força</th>\n",
       "      <th>Inteligência</th>\n",
       "      <th>Velocidade</th>\n",
       "    </tr>\n",
       "  </thead>\n",
       "  <tbody>\n",
       "    <tr>\n",
       "      <th>1</th>\n",
       "      <td>Superman</td>\n",
       "      <td>DC</td>\n",
       "      <td>1938</td>\n",
       "      <td>100</td>\n",
       "      <td>90</td>\n",
       "      <td>100</td>\n",
       "    </tr>\n",
       "  </tbody>\n",
       "</table>\n",
       "</div>"
      ],
      "text/plain": [
       "       Nome Editora  Ano_Estreia  Força  Inteligência  Velocidade\n",
       "1  Superman      DC         1938    100            90         100"
      ]
     },
     "execution_count": 5,
     "metadata": {},
     "output_type": "execute_result"
    }
   ],
   "source": [
    "# Heróis - ex2\n",
    "heroi = df[\"Ano_Estreia\"].min()\n",
    "df[df[\"Ano_Estreia\"] == heroi]"
   ]
  },
  {
   "cell_type": "code",
   "execution_count": 6,
   "metadata": {},
   "outputs": [
    {
     "name": "stdout",
     "output_type": "stream",
     "text": [
      "A média de Força dos heróis da DC é 90.8!\n"
     ]
    }
   ],
   "source": [
    "# Heróis - ex3\n",
    "DC = df[df[\"Editora\"] == \"DC\"]\n",
    "media = DC[\"Força\"].mean()\n",
    "print(f\"A média de Força dos heróis da DC é {media}!\")"
   ]
  },
  {
   "cell_type": "code",
   "execution_count": 7,
   "metadata": {},
   "outputs": [
    {
     "name": "stdout",
     "output_type": "stream",
     "text": [
      "DC tem a maior média com média 90.4\n"
     ]
    }
   ],
   "source": [
    "# Heróis - ex4\n",
    "DC = df[df[\"Editora\"] == \"DC\"]\n",
    "Marvel = df[df[\"Editora\"] == \"Marvel\"]\n",
    "mediaInteDC = DC[\"Inteligência\"].mean()\n",
    "mediaInteMarvel = Marvel[\"Inteligência\"].mean()\n",
    "\n",
    "if ( mediaInteDC > mediaInteMarvel ):\n",
    "    print(f\"DC tem a maior média com média {mediaInteDC}\")\n",
    "else:\n",
    "    print(f\"Marvel tem a maior média com média {mediaInteMarvel}\")\n"
   ]
  },
  {
   "cell_type": "code",
   "execution_count": 8,
   "metadata": {},
   "outputs": [
    {
     "data": {
      "text/html": [
       "<div>\n",
       "<style scoped>\n",
       "    .dataframe tbody tr th:only-of-type {\n",
       "        vertical-align: middle;\n",
       "    }\n",
       "\n",
       "    .dataframe tbody tr th {\n",
       "        vertical-align: top;\n",
       "    }\n",
       "\n",
       "    .dataframe thead th {\n",
       "        text-align: right;\n",
       "    }\n",
       "</style>\n",
       "<table border=\"1\" class=\"dataframe\">\n",
       "  <thead>\n",
       "    <tr style=\"text-align: right;\">\n",
       "      <th></th>\n",
       "      <th>Nome</th>\n",
       "      <th>Editora</th>\n",
       "      <th>Ano_Estreia</th>\n",
       "      <th>Força</th>\n",
       "      <th>Inteligência</th>\n",
       "      <th>Velocidade</th>\n",
       "    </tr>\n",
       "  </thead>\n",
       "  <tbody>\n",
       "    <tr>\n",
       "      <th>1</th>\n",
       "      <td>Superman</td>\n",
       "      <td>DC</td>\n",
       "      <td>1938</td>\n",
       "      <td>100</td>\n",
       "      <td>90</td>\n",
       "      <td>100</td>\n",
       "    </tr>\n",
       "    <tr>\n",
       "      <th>6</th>\n",
       "      <td>Flash</td>\n",
       "      <td>DC</td>\n",
       "      <td>1956</td>\n",
       "      <td>88</td>\n",
       "      <td>88</td>\n",
       "      <td>100</td>\n",
       "    </tr>\n",
       "  </tbody>\n",
       "</table>\n",
       "</div>"
      ],
      "text/plain": [
       "       Nome Editora  Ano_Estreia  Força  Inteligência  Velocidade\n",
       "1  Superman      DC         1938    100            90         100\n",
       "6     Flash      DC         1956     88            88         100"
      ]
     },
     "execution_count": 8,
     "metadata": {},
     "output_type": "execute_result"
    }
   ],
   "source": [
    "# Heróis - ex5\n",
    "heroi = df[\"Velocidade\"].max()\n",
    "df[df[\"Velocidade\"] == heroi]"
   ]
  },
  {
   "cell_type": "code",
   "execution_count": 9,
   "metadata": {},
   "outputs": [
    {
     "name": "stdout",
     "output_type": "stream",
     "text": [
      "6 Heróis estrearam antes de 1960\n"
     ]
    }
   ],
   "source": [
    "# Heróis - ex6\n",
    "heroisAntes = df[df[\"Ano_Estreia\"] < 1960]\n",
    "qtdHeroisAntes = len(heroisAntes)\n",
    "print(f\"{qtdHeroisAntes} Heróis estrearam antes de 1960\")\n"
   ]
  },
  {
   "cell_type": "code",
   "execution_count": 10,
   "metadata": {},
   "outputs": [
    {
     "name": "stdout",
     "output_type": "stream",
     "text": [
      "471\n"
     ]
    }
   ],
   "source": [
    "# Heróis - ex7\n",
    "Marvel = df[df[\"Editora\"] == \"Marvel\"]\n",
    "somaForca = Marvel[\"Força\"].sum()\n",
    "print(somaForca)"
   ]
  },
  {
   "cell_type": "code",
   "execution_count": 11,
   "metadata": {},
   "outputs": [
    {
     "data": {
      "text/html": [
       "<div>\n",
       "<style scoped>\n",
       "    .dataframe tbody tr th:only-of-type {\n",
       "        vertical-align: middle;\n",
       "    }\n",
       "\n",
       "    .dataframe tbody tr th {\n",
       "        vertical-align: top;\n",
       "    }\n",
       "\n",
       "    .dataframe thead th {\n",
       "        text-align: right;\n",
       "    }\n",
       "</style>\n",
       "<table border=\"1\" class=\"dataframe\">\n",
       "  <thead>\n",
       "    <tr style=\"text-align: right;\">\n",
       "      <th></th>\n",
       "      <th>Nome</th>\n",
       "      <th>Editora</th>\n",
       "      <th>Ano_Estreia</th>\n",
       "      <th>Força</th>\n",
       "      <th>Inteligência</th>\n",
       "      <th>Velocidade</th>\n",
       "    </tr>\n",
       "  </thead>\n",
       "  <tbody>\n",
       "    <tr>\n",
       "      <th>1</th>\n",
       "      <td>Superman</td>\n",
       "      <td>DC</td>\n",
       "      <td>1938</td>\n",
       "      <td>100</td>\n",
       "      <td>90</td>\n",
       "      <td>100</td>\n",
       "    </tr>\n",
       "    <tr>\n",
       "      <th>6</th>\n",
       "      <td>Flash</td>\n",
       "      <td>DC</td>\n",
       "      <td>1956</td>\n",
       "      <td>88</td>\n",
       "      <td>88</td>\n",
       "      <td>100</td>\n",
       "    </tr>\n",
       "    <tr>\n",
       "      <th>9</th>\n",
       "      <td>Homem-Aranha</td>\n",
       "      <td>Marvel</td>\n",
       "      <td>1962</td>\n",
       "      <td>89</td>\n",
       "      <td>85</td>\n",
       "      <td>95</td>\n",
       "    </tr>\n",
       "    <tr>\n",
       "      <th>7</th>\n",
       "      <td>Thor</td>\n",
       "      <td>Marvel</td>\n",
       "      <td>1962</td>\n",
       "      <td>100</td>\n",
       "      <td>90</td>\n",
       "      <td>90</td>\n",
       "    </tr>\n",
       "    <tr>\n",
       "      <th>3</th>\n",
       "      <td>Homem de Ferro</td>\n",
       "      <td>Marvel</td>\n",
       "      <td>1963</td>\n",
       "      <td>90</td>\n",
       "      <td>100</td>\n",
       "      <td>88</td>\n",
       "    </tr>\n",
       "    <tr>\n",
       "      <th>2</th>\n",
       "      <td>Mulher-Maravilha</td>\n",
       "      <td>DC</td>\n",
       "      <td>1941</td>\n",
       "      <td>95</td>\n",
       "      <td>92</td>\n",
       "      <td>85</td>\n",
       "    </tr>\n",
       "    <tr>\n",
       "      <th>8</th>\n",
       "      <td>Aquaman</td>\n",
       "      <td>DC</td>\n",
       "      <td>1941</td>\n",
       "      <td>86</td>\n",
       "      <td>82</td>\n",
       "      <td>85</td>\n",
       "    </tr>\n",
       "    <tr>\n",
       "      <th>4</th>\n",
       "      <td>Capitão América</td>\n",
       "      <td>Marvel</td>\n",
       "      <td>1941</td>\n",
       "      <td>92</td>\n",
       "      <td>85</td>\n",
       "      <td>84</td>\n",
       "    </tr>\n",
       "    <tr>\n",
       "      <th>0</th>\n",
       "      <td>Batman</td>\n",
       "      <td>DC</td>\n",
       "      <td>1939</td>\n",
       "      <td>85</td>\n",
       "      <td>100</td>\n",
       "      <td>80</td>\n",
       "    </tr>\n",
       "    <tr>\n",
       "      <th>5</th>\n",
       "      <td>Hulk</td>\n",
       "      <td>Marvel</td>\n",
       "      <td>1962</td>\n",
       "      <td>100</td>\n",
       "      <td>80</td>\n",
       "      <td>75</td>\n",
       "    </tr>\n",
       "  </tbody>\n",
       "</table>\n",
       "</div>"
      ],
      "text/plain": [
       "               Nome Editora  Ano_Estreia  Força  Inteligência  Velocidade\n",
       "1          Superman      DC         1938    100            90         100\n",
       "6             Flash      DC         1956     88            88         100\n",
       "9      Homem-Aranha  Marvel         1962     89            85          95\n",
       "7              Thor  Marvel         1962    100            90          90\n",
       "3    Homem de Ferro  Marvel         1963     90           100          88\n",
       "2  Mulher-Maravilha      DC         1941     95            92          85\n",
       "8           Aquaman      DC         1941     86            82          85\n",
       "4   Capitão América  Marvel         1941     92            85          84\n",
       "0            Batman      DC         1939     85           100          80\n",
       "5              Hulk  Marvel         1962    100            80          75"
      ]
     },
     "execution_count": 11,
     "metadata": {},
     "output_type": "execute_result"
    }
   ],
   "source": [
    "# Heróis - ex8\n",
    "df.sort_values(by=\"Velocidade\", ascending=False)"
   ]
  },
  {
   "cell_type": "code",
   "execution_count": 12,
   "metadata": {},
   "outputs": [
    {
     "name": "stdout",
     "output_type": "stream",
     "text": [
      "1943.0\n"
     ]
    }
   ],
   "source": [
    "# Heróis - ex9\n",
    "DC = df[df[\"Editora\"] == \"DC\"]\n",
    "mediaAnoEstreia = DC[\"Ano_Estreia\"].mean()\n",
    "print(mediaAnoEstreia)"
   ]
  },
  {
   "cell_type": "code",
   "execution_count": 13,
   "metadata": {},
   "outputs": [
    {
     "data": {
      "text/plain": [
       "1    Superman\n",
       "5        Hulk\n",
       "7        Thor\n",
       "Name: Nome, dtype: object"
      ]
     },
     "execution_count": 13,
     "metadata": {},
     "output_type": "execute_result"
    }
   ],
   "source": [
    "# Heróis - ex10\n",
    "heroi = df[\"Força\"].max()\n",
    "maisFortes = df[df[\"Força\"] == heroi]\n",
    "maisFortes[\"Nome\"]"
   ]
  },
  {
   "cell_type": "markdown",
   "metadata": {},
   "source": [
    "CORINTHIANS 🦨"
   ]
  },
  {
   "cell_type": "code",
   "execution_count": 6,
   "metadata": {},
   "outputs": [
    {
     "data": {
      "text/html": [
       "<div>\n",
       "<style scoped>\n",
       "    .dataframe tbody tr th:only-of-type {\n",
       "        vertical-align: middle;\n",
       "    }\n",
       "\n",
       "    .dataframe tbody tr th {\n",
       "        vertical-align: top;\n",
       "    }\n",
       "\n",
       "    .dataframe thead th {\n",
       "        text-align: right;\n",
       "    }\n",
       "</style>\n",
       "<table border=\"1\" class=\"dataframe\">\n",
       "  <thead>\n",
       "    <tr style=\"text-align: right;\">\n",
       "      <th></th>\n",
       "      <th>Ano</th>\n",
       "      <th>Jogos</th>\n",
       "      <th>Vitórias</th>\n",
       "      <th>Empates</th>\n",
       "      <th>Derrotas</th>\n",
       "      <th>Gols_Marcados</th>\n",
       "      <th>Gols_Sofridos</th>\n",
       "      <th>Posição_Campeonato</th>\n",
       "    </tr>\n",
       "  </thead>\n",
       "  <tbody>\n",
       "    <tr>\n",
       "      <th>0</th>\n",
       "      <td>2015</td>\n",
       "      <td>61</td>\n",
       "      <td>30</td>\n",
       "      <td>14</td>\n",
       "      <td>12</td>\n",
       "      <td>49</td>\n",
       "      <td>59</td>\n",
       "      <td>19</td>\n",
       "    </tr>\n",
       "    <tr>\n",
       "      <th>1</th>\n",
       "      <td>2016</td>\n",
       "      <td>42</td>\n",
       "      <td>27</td>\n",
       "      <td>10</td>\n",
       "      <td>11</td>\n",
       "      <td>85</td>\n",
       "      <td>29</td>\n",
       "      <td>4</td>\n",
       "    </tr>\n",
       "    <tr>\n",
       "      <th>2</th>\n",
       "      <td>2017</td>\n",
       "      <td>69</td>\n",
       "      <td>35</td>\n",
       "      <td>6</td>\n",
       "      <td>6</td>\n",
       "      <td>58</td>\n",
       "      <td>41</td>\n",
       "      <td>10</td>\n",
       "    </tr>\n",
       "    <tr>\n",
       "      <th>3</th>\n",
       "      <td>2018</td>\n",
       "      <td>47</td>\n",
       "      <td>27</td>\n",
       "      <td>11</td>\n",
       "      <td>14</td>\n",
       "      <td>30</td>\n",
       "      <td>29</td>\n",
       "      <td>17</td>\n",
       "    </tr>\n",
       "    <tr>\n",
       "      <th>4</th>\n",
       "      <td>2019</td>\n",
       "      <td>56</td>\n",
       "      <td>33</td>\n",
       "      <td>11</td>\n",
       "      <td>11</td>\n",
       "      <td>49</td>\n",
       "      <td>29</td>\n",
       "      <td>6</td>\n",
       "    </tr>\n",
       "  </tbody>\n",
       "</table>\n",
       "</div>"
      ],
      "text/plain": [
       "    Ano  Jogos  Vitórias  Empates  Derrotas  Gols_Marcados  Gols_Sofridos  \\\n",
       "0  2015     61        30       14        12             49             59   \n",
       "1  2016     42        27       10        11             85             29   \n",
       "2  2017     69        35        6         6             58             41   \n",
       "3  2018     47        27       11        14             30             29   \n",
       "4  2019     56        33       11        11             49             29   \n",
       "\n",
       "   Posição_Campeonato  \n",
       "0                  19  \n",
       "1                   4  \n",
       "2                  10  \n",
       "3                  17  \n",
       "4                   6  "
      ]
     },
     "execution_count": 6,
     "metadata": {},
     "output_type": "execute_result"
    }
   ],
   "source": [
    "df = pd.read_csv(\"A:/FIAP/2 Sem/MATÉRIAS/Data-Science/Aula 1/Pasta ex aula de hj/todo poderoso timão.csv\")\n",
    "df.head()"
   ]
  },
  {
   "cell_type": "code",
   "execution_count": 7,
   "metadata": {},
   "outputs": [
    {
     "name": "stdout",
     "output_type": "stream",
     "text": [
      "O ano com mais vitórias foi: 2022\n"
     ]
    }
   ],
   "source": [
    "# ex1 -- Gamba\n",
    "ano_mais_vitorias = df.loc[df['Vitórias'].idxmax(), 'Ano']\n",
    "print(f\"O ano com mais vitórias foi: {ano_mais_vitorias}\")"
   ]
  },
  {
   "cell_type": "code",
   "execution_count": 8,
   "metadata": {},
   "outputs": [
    {
     "name": "stdout",
     "output_type": "stream",
     "text": [
      "Saldo de gols em cada ano:\n",
      "    Ano  Saldo_Gols\n",
      "0  2015         -10\n",
      "1  2016          56\n",
      "2  2017          17\n",
      "3  2018           1\n",
      "4  2019          20\n",
      "5  2020          23\n",
      "6  2021          50\n",
      "7  2022          36\n",
      "8  2023         -11\n",
      "9  2024          41\n"
     ]
    }
   ],
   "source": [
    "# ex2 -- Gamba\n",
    "df['Saldo_Gols'] = df['Gols_Marcados'] - df['Gols_Sofridos']\n",
    "print(\"Saldo de gols em cada ano:\")\n",
    "print(df[['Ano', 'Saldo_Gols']])"
   ]
  },
  {
   "cell_type": "code",
   "execution_count": 9,
   "metadata": {},
   "outputs": [
    {
     "name": "stdout",
     "output_type": "stream",
     "text": [
      "A média de posição final do Corinthians no campeonato é: 12.30\n"
     ]
    }
   ],
   "source": [
    "# ex3 -- Gamba\n",
    "media_posicao = df['Posição_Campeonato'].mean()\n",
    "print(f\"A média de posição final do Corinthians no campeonato é: {media_posicao:.2f}\")"
   ]
  },
  {
   "cell_type": "code",
   "execution_count": 24,
   "metadata": {},
   "outputs": [
    {
     "data": {
      "text/plain": [
       "9    2024\n",
       "Name: Ano, dtype: int64"
      ]
     },
     "execution_count": 24,
     "metadata": {},
     "output_type": "execute_result"
    }
   ],
   "source": [
    "# ex4 -- Gamba\n",
    "min_Derrotas = df['Derrotas'].min()\n",
    "derrotas = df[df['Derrotas'] == min_Derrotas]\n",
    "ano = derrotas[\"Ano\"]\n",
    "ano"
   ]
  },
  {
   "cell_type": "code",
   "execution_count": 26,
   "metadata": {},
   "outputs": [
    {
     "data": {
      "text/plain": [
       "1    2016\n",
       "5    2020\n",
       "6    2021\n",
       "7    2022\n",
       "9    2024\n",
       "Name: Ano, dtype: int64"
      ]
     },
     "execution_count": 26,
     "metadata": {},
     "output_type": "execute_result"
    }
   ],
   "source": [
    "# ex5 -- Gamba\n",
    "\n",
    "golsMaisQue60 = df[df['Gols_Marcados'] > 60]\n",
    "golsMaisQue60[\"Ano\"]"
   ]
  },
  {
   "cell_type": "code",
   "execution_count": 112,
   "metadata": {},
   "outputs": [
    {
     "name": "stdout",
     "output_type": "stream",
     "text": [
      " Ano  TaxaVitórias\n",
      "2015         49.18\n",
      "2016         64.29\n",
      "2017         50.72\n",
      "2018         57.45\n",
      "2019         58.93\n",
      "2020         71.11\n",
      "2021         71.43\n",
      "2022         90.00\n",
      "2023         56.60\n",
      "2024         34.38\n"
     ]
    }
   ],
   "source": [
    "# ex6 -- Gamba\n",
    "df['TaxaVitórias'] = (df['Vitórias'] / df['Jogos']) * 100\n",
    " \n",
    "taxa_vitorias = df[['Ano', 'TaxaVitórias'] ].round(2)\n",
    " \n",
    "print(taxa_vitorias.to_string(index=False))"
   ]
  },
  {
   "cell_type": "code",
   "execution_count": null,
   "metadata": {},
   "outputs": [
    {
     "name": "stdout",
     "output_type": "stream",
     "text": [
      " Ano  Pontos\n",
      "2021     117\n",
      "2022     115\n",
      "2017     111\n",
      "2019     110\n",
      "2020     104\n",
      "2015     104\n",
      "2023     103\n",
      "2018      92\n",
      "2016      91\n",
      "2024      72\n"
     ]
    }
   ],
   "source": [
    "# ex7\n",
    "df['Pontos'] = df['Vitórias'] * 3 + df['Empates']\n",
    "\n",
    "df_ordenado = df[['Ano', 'Pontos']].sort_values(by='Pontos', ascending=False)\n",
    "\n",
    "print(df_ordenado.to_string(index=False))"
   ]
  },
  {
   "cell_type": "code",
   "execution_count": 109,
   "metadata": {},
   "outputs": [
    {
     "data": {
      "text/html": [
       "<div>\n",
       "<style scoped>\n",
       "    .dataframe tbody tr th:only-of-type {\n",
       "        vertical-align: middle;\n",
       "    }\n",
       "\n",
       "    .dataframe tbody tr th {\n",
       "        vertical-align: top;\n",
       "    }\n",
       "\n",
       "    .dataframe thead th {\n",
       "        text-align: right;\n",
       "    }\n",
       "</style>\n",
       "<table border=\"1\" class=\"dataframe\">\n",
       "  <thead>\n",
       "    <tr style=\"text-align: right;\">\n",
       "      <th></th>\n",
       "      <th>Ano</th>\n",
       "      <th>Jogos</th>\n",
       "      <th>Vitórias</th>\n",
       "      <th>Empates</th>\n",
       "      <th>Derrotas</th>\n",
       "      <th>Gols_Marcados</th>\n",
       "      <th>Gols_Sofridos</th>\n",
       "      <th>Posição_Campeonato</th>\n",
       "      <th>Média_Gols_Sofridos</th>\n",
       "    </tr>\n",
       "  </thead>\n",
       "  <tbody>\n",
       "    <tr>\n",
       "      <th>0</th>\n",
       "      <td>2015</td>\n",
       "      <td>61</td>\n",
       "      <td>30</td>\n",
       "      <td>14</td>\n",
       "      <td>12</td>\n",
       "      <td>49</td>\n",
       "      <td>59</td>\n",
       "      <td>19</td>\n",
       "      <td>0.967213</td>\n",
       "    </tr>\n",
       "    <tr>\n",
       "      <th>9</th>\n",
       "      <td>2024</td>\n",
       "      <td>64</td>\n",
       "      <td>22</td>\n",
       "      <td>6</td>\n",
       "      <td>5</td>\n",
       "      <td>89</td>\n",
       "      <td>48</td>\n",
       "      <td>19</td>\n",
       "      <td>0.750000</td>\n",
       "    </tr>\n",
       "  </tbody>\n",
       "</table>\n",
       "</div>"
      ],
      "text/plain": [
       "    Ano  Jogos  Vitórias  Empates  Derrotas  Gols_Marcados  Gols_Sofridos  \\\n",
       "0  2015     61        30       14        12             49             59   \n",
       "9  2024     64        22        6         5             89             48   \n",
       "\n",
       "   Posição_Campeonato  Média_Gols_Sofridos  \n",
       "0                  19             0.967213  \n",
       "9                  19             0.750000  "
      ]
     },
     "execution_count": 109,
     "metadata": {},
     "output_type": "execute_result"
    }
   ],
   "source": [
    "# ex 8 -- Gamba\n",
    "Posição_min = df['Posição_Campeonato'].max()\n",
    "\n",
    "df[df['Posição_Campeonato'] == Posição_min]"
   ]
  },
  {
   "cell_type": "code",
   "execution_count": 108,
   "metadata": {},
   "outputs": [
    {
     "data": {
      "text/html": [
       "<div>\n",
       "<style scoped>\n",
       "    .dataframe tbody tr th:only-of-type {\n",
       "        vertical-align: middle;\n",
       "    }\n",
       "\n",
       "    .dataframe tbody tr th {\n",
       "        vertical-align: top;\n",
       "    }\n",
       "\n",
       "    .dataframe thead th {\n",
       "        text-align: right;\n",
       "    }\n",
       "</style>\n",
       "<table border=\"1\" class=\"dataframe\">\n",
       "  <thead>\n",
       "    <tr style=\"text-align: right;\">\n",
       "      <th></th>\n",
       "      <th>Ano</th>\n",
       "      <th>Jogos</th>\n",
       "      <th>Vitórias</th>\n",
       "      <th>Empates</th>\n",
       "      <th>Derrotas</th>\n",
       "      <th>Gols_Marcados</th>\n",
       "      <th>Gols_Sofridos</th>\n",
       "      <th>Posição_Campeonato</th>\n",
       "      <th>Média_Gols_Sofridos</th>\n",
       "    </tr>\n",
       "  </thead>\n",
       "  <tbody>\n",
       "    <tr>\n",
       "      <th>2</th>\n",
       "      <td>2017</td>\n",
       "      <td>69</td>\n",
       "      <td>35</td>\n",
       "      <td>6</td>\n",
       "      <td>6</td>\n",
       "      <td>58</td>\n",
       "      <td>41</td>\n",
       "      <td>10</td>\n",
       "      <td>0.594203</td>\n",
       "    </tr>\n",
       "  </tbody>\n",
       "</table>\n",
       "</div>"
      ],
      "text/plain": [
       "    Ano  Jogos  Vitórias  Empates  Derrotas  Gols_Marcados  Gols_Sofridos  \\\n",
       "2  2017     69        35        6         6             58             41   \n",
       "\n",
       "   Posição_Campeonato  Média_Gols_Sofridos  \n",
       "2                  10             0.594203  "
      ]
     },
     "execution_count": 108,
     "metadata": {},
     "output_type": "execute_result"
    }
   ],
   "source": [
    "# ex9 -- Gamba\n",
    "Jogos = df['Jogos'].max()\n",
    "\n",
    "df[df['Jogos'] == Jogos]"
   ]
  },
  {
   "cell_type": "code",
   "execution_count": 107,
   "metadata": {},
   "outputs": [
    {
     "name": "stdout",
     "output_type": "stream",
     "text": [
      " Ano  Média_Gols_Sofridos\n",
      "2015             0.967213\n",
      "2016             0.690476\n",
      "2017             0.594203\n",
      "2018             0.617021\n",
      "2019             0.517857\n",
      "2020             1.088889\n",
      "2021             0.408163\n",
      "2022             0.850000\n",
      "2023             0.905660\n",
      "2024             0.750000\n"
     ]
    }
   ],
   "source": [
    "# ex10 -- Gamba\n",
    "\n",
    "df['Média_Gols_Sofridos'] = df['Gols_Sofridos'] / df['Jogos']\n",
    "\n",
    "df_resultado = df[['Ano', 'Média_Gols_Sofridos']]\n",
    "\n",
    "print(df_resultado.to_string(index=False))"
   ]
  },
  {
   "cell_type": "markdown",
   "metadata": {},
   "source": [
    "FILMES"
   ]
  },
  {
   "cell_type": "code",
   "execution_count": 87,
   "metadata": {},
   "outputs": [
    {
     "data": {
      "text/html": [
       "<div>\n",
       "<style scoped>\n",
       "    .dataframe tbody tr th:only-of-type {\n",
       "        vertical-align: middle;\n",
       "    }\n",
       "\n",
       "    .dataframe tbody tr th {\n",
       "        vertical-align: top;\n",
       "    }\n",
       "\n",
       "    .dataframe thead th {\n",
       "        text-align: right;\n",
       "    }\n",
       "</style>\n",
       "<table border=\"1\" class=\"dataframe\">\n",
       "  <thead>\n",
       "    <tr style=\"text-align: right;\">\n",
       "      <th></th>\n",
       "      <th>Título</th>\n",
       "      <th>Ano</th>\n",
       "      <th>Bilheteria_Mundial</th>\n",
       "      <th>Nota_IMDb</th>\n",
       "      <th>Duração_Minutos</th>\n",
       "      <th>Gênero</th>\n",
       "    </tr>\n",
       "  </thead>\n",
       "  <tbody>\n",
       "    <tr>\n",
       "      <th>0</th>\n",
       "      <td>O Poderoso Chefão</td>\n",
       "      <td>1972</td>\n",
       "      <td>287</td>\n",
       "      <td>9.2</td>\n",
       "      <td>175</td>\n",
       "      <td>Crime</td>\n",
       "    </tr>\n",
       "    <tr>\n",
       "      <th>1</th>\n",
       "      <td>Titanic</td>\n",
       "      <td>1997</td>\n",
       "      <td>2187</td>\n",
       "      <td>7.8</td>\n",
       "      <td>195</td>\n",
       "      <td>Romance</td>\n",
       "    </tr>\n",
       "    <tr>\n",
       "      <th>2</th>\n",
       "      <td>Interestelar</td>\n",
       "      <td>2014</td>\n",
       "      <td>701</td>\n",
       "      <td>8.6</td>\n",
       "      <td>169</td>\n",
       "      <td>Ficção Científica</td>\n",
       "    </tr>\n",
       "    <tr>\n",
       "      <th>3</th>\n",
       "      <td>Matrix</td>\n",
       "      <td>1999</td>\n",
       "      <td>466</td>\n",
       "      <td>8.7</td>\n",
       "      <td>136</td>\n",
       "      <td>Ficção Científica</td>\n",
       "    </tr>\n",
       "    <tr>\n",
       "      <th>4</th>\n",
       "      <td>Vingadores: Ultimato</td>\n",
       "      <td>2019</td>\n",
       "      <td>2798</td>\n",
       "      <td>8.4</td>\n",
       "      <td>181</td>\n",
       "      <td>Ação</td>\n",
       "    </tr>\n",
       "  </tbody>\n",
       "</table>\n",
       "</div>"
      ],
      "text/plain": [
       "                 Título   Ano  Bilheteria_Mundial  Nota_IMDb  Duração_Minutos  \\\n",
       "0     O Poderoso Chefão  1972                 287        9.2              175   \n",
       "1               Titanic  1997                2187        7.8              195   \n",
       "2          Interestelar  2014                 701        8.6              169   \n",
       "3                Matrix  1999                 466        8.7              136   \n",
       "4  Vingadores: Ultimato  2019                2798        8.4              181   \n",
       "\n",
       "              Gênero  \n",
       "0              Crime  \n",
       "1            Romance  \n",
       "2  Ficção Científica  \n",
       "3  Ficção Científica  \n",
       "4               Ação  "
      ]
     },
     "execution_count": 87,
     "metadata": {},
     "output_type": "execute_result"
    }
   ],
   "source": [
    "df = pd.read_csv('A:/FIAP/2 Sem/MATÉRIAS/Data-Science/Aula 1/Pasta ex aula de hj/filmes.csv')\n",
    "df.head()"
   ]
  },
  {
   "cell_type": "code",
   "execution_count": 88,
   "metadata": {},
   "outputs": [
    {
     "data": {
      "text/html": [
       "<div>\n",
       "<style scoped>\n",
       "    .dataframe tbody tr th:only-of-type {\n",
       "        vertical-align: middle;\n",
       "    }\n",
       "\n",
       "    .dataframe tbody tr th {\n",
       "        vertical-align: top;\n",
       "    }\n",
       "\n",
       "    .dataframe thead th {\n",
       "        text-align: right;\n",
       "    }\n",
       "</style>\n",
       "<table border=\"1\" class=\"dataframe\">\n",
       "  <thead>\n",
       "    <tr style=\"text-align: right;\">\n",
       "      <th></th>\n",
       "      <th>Título</th>\n",
       "      <th>Ano</th>\n",
       "      <th>Bilheteria_Mundial</th>\n",
       "      <th>Nota_IMDb</th>\n",
       "      <th>Duração_Minutos</th>\n",
       "      <th>Gênero</th>\n",
       "    </tr>\n",
       "  </thead>\n",
       "  <tbody>\n",
       "    <tr>\n",
       "      <th>2</th>\n",
       "      <td>Interestelar</td>\n",
       "      <td>2014</td>\n",
       "      <td>701</td>\n",
       "      <td>8.6</td>\n",
       "      <td>169</td>\n",
       "      <td>Ficção Científica</td>\n",
       "    </tr>\n",
       "    <tr>\n",
       "      <th>3</th>\n",
       "      <td>Matrix</td>\n",
       "      <td>1999</td>\n",
       "      <td>466</td>\n",
       "      <td>8.7</td>\n",
       "      <td>136</td>\n",
       "      <td>Ficção Científica</td>\n",
       "    </tr>\n",
       "    <tr>\n",
       "      <th>9</th>\n",
       "      <td>Duna</td>\n",
       "      <td>2021</td>\n",
       "      <td>402</td>\n",
       "      <td>8.0</td>\n",
       "      <td>155</td>\n",
       "      <td>Ficção Científica</td>\n",
       "    </tr>\n",
       "  </tbody>\n",
       "</table>\n",
       "</div>"
      ],
      "text/plain": [
       "         Título   Ano  Bilheteria_Mundial  Nota_IMDb  Duração_Minutos  \\\n",
       "2  Interestelar  2014                 701        8.6              169   \n",
       "3        Matrix  1999                 466        8.7              136   \n",
       "9          Duna  2021                 402        8.0              155   \n",
       "\n",
       "              Gênero  \n",
       "2  Ficção Científica  \n",
       "3  Ficção Científica  \n",
       "9  Ficção Científica  "
      ]
     },
     "execution_count": 88,
     "metadata": {},
     "output_type": "execute_result"
    }
   ],
   "source": [
    "# Ex1 Filmes\n",
    "\n",
    "df[df['Gênero']== \"Ficção Científica\"]"
   ]
  },
  {
   "cell_type": "code",
   "execution_count": 89,
   "metadata": {},
   "outputs": [
    {
     "data": {
      "text/html": [
       "<div>\n",
       "<style scoped>\n",
       "    .dataframe tbody tr th:only-of-type {\n",
       "        vertical-align: middle;\n",
       "    }\n",
       "\n",
       "    .dataframe tbody tr th {\n",
       "        vertical-align: top;\n",
       "    }\n",
       "\n",
       "    .dataframe thead th {\n",
       "        text-align: right;\n",
       "    }\n",
       "</style>\n",
       "<table border=\"1\" class=\"dataframe\">\n",
       "  <thead>\n",
       "    <tr style=\"text-align: right;\">\n",
       "      <th></th>\n",
       "      <th>Título</th>\n",
       "      <th>Ano</th>\n",
       "      <th>Bilheteria_Mundial</th>\n",
       "      <th>Nota_IMDb</th>\n",
       "      <th>Duração_Minutos</th>\n",
       "      <th>Gênero</th>\n",
       "    </tr>\n",
       "  </thead>\n",
       "  <tbody>\n",
       "    <tr>\n",
       "      <th>0</th>\n",
       "      <td>O Poderoso Chefão</td>\n",
       "      <td>1972</td>\n",
       "      <td>287</td>\n",
       "      <td>9.2</td>\n",
       "      <td>175</td>\n",
       "      <td>Crime</td>\n",
       "    </tr>\n",
       "  </tbody>\n",
       "</table>\n",
       "</div>"
      ],
      "text/plain": [
       "              Título   Ano  Bilheteria_Mundial  Nota_IMDb  Duração_Minutos  \\\n",
       "0  O Poderoso Chefão  1972                 287        9.2              175   \n",
       "\n",
       "  Gênero  \n",
       "0  Crime  "
      ]
     },
     "execution_count": 89,
     "metadata": {},
     "output_type": "execute_result"
    }
   ],
   "source": [
    "# ex 2\n",
    "ano = df['Ano'].min()\n",
    "\n",
    "df[df['Ano'] == ano]"
   ]
  },
  {
   "cell_type": "code",
   "execution_count": 94,
   "metadata": {},
   "outputs": [
    {
     "name": "stdout",
     "output_type": "stream",
     "text": [
      "1114.6\n"
     ]
    }
   ],
   "source": [
    "# ex3\n",
    "media = df['Bilheteria_Mundial'].mean()\n",
    "print(media)"
   ]
  },
  {
   "cell_type": "code",
   "execution_count": 95,
   "metadata": {},
   "outputs": [
    {
     "data": {
      "text/html": [
       "<div>\n",
       "<style scoped>\n",
       "    .dataframe tbody tr th:only-of-type {\n",
       "        vertical-align: middle;\n",
       "    }\n",
       "\n",
       "    .dataframe tbody tr th {\n",
       "        vertical-align: top;\n",
       "    }\n",
       "\n",
       "    .dataframe thead th {\n",
       "        text-align: right;\n",
       "    }\n",
       "</style>\n",
       "<table border=\"1\" class=\"dataframe\">\n",
       "  <thead>\n",
       "    <tr style=\"text-align: right;\">\n",
       "      <th></th>\n",
       "      <th>Título</th>\n",
       "      <th>Ano</th>\n",
       "      <th>Bilheteria_Mundial</th>\n",
       "      <th>Nota_IMDb</th>\n",
       "      <th>Duração_Minutos</th>\n",
       "      <th>Gênero</th>\n",
       "    </tr>\n",
       "  </thead>\n",
       "  <tbody>\n",
       "    <tr>\n",
       "      <th>0</th>\n",
       "      <td>O Poderoso Chefão</td>\n",
       "      <td>1972</td>\n",
       "      <td>287</td>\n",
       "      <td>9.2</td>\n",
       "      <td>175</td>\n",
       "      <td>Crime</td>\n",
       "    </tr>\n",
       "  </tbody>\n",
       "</table>\n",
       "</div>"
      ],
      "text/plain": [
       "              Título   Ano  Bilheteria_Mundial  Nota_IMDb  Duração_Minutos  \\\n",
       "0  O Poderoso Chefão  1972                 287        9.2              175   \n",
       "\n",
       "  Gênero  \n",
       "0  Crime  "
      ]
     },
     "execution_count": 95,
     "metadata": {},
     "output_type": "execute_result"
    }
   ],
   "source": [
    "# ex4\n",
    "imdb = df['Nota_IMDb'].max()\n",
    "\n",
    "df[df['Nota_IMDb'] == imdb]"
   ]
  },
  {
   "cell_type": "code",
   "execution_count": 96,
   "metadata": {},
   "outputs": [
    {
     "data": {
      "text/html": [
       "<div>\n",
       "<style scoped>\n",
       "    .dataframe tbody tr th:only-of-type {\n",
       "        vertical-align: middle;\n",
       "    }\n",
       "\n",
       "    .dataframe tbody tr th {\n",
       "        vertical-align: top;\n",
       "    }\n",
       "\n",
       "    .dataframe thead th {\n",
       "        text-align: right;\n",
       "    }\n",
       "</style>\n",
       "<table border=\"1\" class=\"dataframe\">\n",
       "  <thead>\n",
       "    <tr style=\"text-align: right;\">\n",
       "      <th></th>\n",
       "      <th>Título</th>\n",
       "      <th>Ano</th>\n",
       "      <th>Bilheteria_Mundial</th>\n",
       "      <th>Nota_IMDb</th>\n",
       "      <th>Duração_Minutos</th>\n",
       "      <th>Gênero</th>\n",
       "    </tr>\n",
       "  </thead>\n",
       "  <tbody>\n",
       "    <tr>\n",
       "      <th>1</th>\n",
       "      <td>Titanic</td>\n",
       "      <td>1997</td>\n",
       "      <td>2187</td>\n",
       "      <td>7.8</td>\n",
       "      <td>195</td>\n",
       "      <td>Romance</td>\n",
       "    </tr>\n",
       "    <tr>\n",
       "      <th>4</th>\n",
       "      <td>Vingadores: Ultimato</td>\n",
       "      <td>2019</td>\n",
       "      <td>2798</td>\n",
       "      <td>8.4</td>\n",
       "      <td>181</td>\n",
       "      <td>Ação</td>\n",
       "    </tr>\n",
       "    <tr>\n",
       "      <th>7</th>\n",
       "      <td>O Senhor dos Anéis</td>\n",
       "      <td>2001</td>\n",
       "      <td>2917</td>\n",
       "      <td>8.8</td>\n",
       "      <td>178</td>\n",
       "      <td>Fantasia</td>\n",
       "    </tr>\n",
       "    <tr>\n",
       "      <th>0</th>\n",
       "      <td>O Poderoso Chefão</td>\n",
       "      <td>1972</td>\n",
       "      <td>287</td>\n",
       "      <td>9.2</td>\n",
       "      <td>175</td>\n",
       "      <td>Crime</td>\n",
       "    </tr>\n",
       "    <tr>\n",
       "      <th>2</th>\n",
       "      <td>Interestelar</td>\n",
       "      <td>2014</td>\n",
       "      <td>701</td>\n",
       "      <td>8.6</td>\n",
       "      <td>169</td>\n",
       "      <td>Ficção Científica</td>\n",
       "    </tr>\n",
       "    <tr>\n",
       "      <th>9</th>\n",
       "      <td>Duna</td>\n",
       "      <td>2021</td>\n",
       "      <td>402</td>\n",
       "      <td>8.0</td>\n",
       "      <td>155</td>\n",
       "      <td>Ficção Científica</td>\n",
       "    </tr>\n",
       "    <tr>\n",
       "      <th>6</th>\n",
       "      <td>Pulp Fiction</td>\n",
       "      <td>1994</td>\n",
       "      <td>213</td>\n",
       "      <td>8.9</td>\n",
       "      <td>154</td>\n",
       "      <td>Crime</td>\n",
       "    </tr>\n",
       "    <tr>\n",
       "      <th>5</th>\n",
       "      <td>Clube da Luta</td>\n",
       "      <td>1999</td>\n",
       "      <td>101</td>\n",
       "      <td>8.8</td>\n",
       "      <td>139</td>\n",
       "      <td>Drama</td>\n",
       "    </tr>\n",
       "    <tr>\n",
       "      <th>3</th>\n",
       "      <td>Matrix</td>\n",
       "      <td>1999</td>\n",
       "      <td>466</td>\n",
       "      <td>8.7</td>\n",
       "      <td>136</td>\n",
       "      <td>Ficção Científica</td>\n",
       "    </tr>\n",
       "    <tr>\n",
       "      <th>8</th>\n",
       "      <td>Coringa</td>\n",
       "      <td>2019</td>\n",
       "      <td>1074</td>\n",
       "      <td>8.4</td>\n",
       "      <td>122</td>\n",
       "      <td>Drama</td>\n",
       "    </tr>\n",
       "  </tbody>\n",
       "</table>\n",
       "</div>"
      ],
      "text/plain": [
       "                 Título   Ano  Bilheteria_Mundial  Nota_IMDb  Duração_Minutos  \\\n",
       "1               Titanic  1997                2187        7.8              195   \n",
       "4  Vingadores: Ultimato  2019                2798        8.4              181   \n",
       "7    O Senhor dos Anéis  2001                2917        8.8              178   \n",
       "0     O Poderoso Chefão  1972                 287        9.2              175   \n",
       "2          Interestelar  2014                 701        8.6              169   \n",
       "9                  Duna  2021                 402        8.0              155   \n",
       "6          Pulp Fiction  1994                 213        8.9              154   \n",
       "5         Clube da Luta  1999                 101        8.8              139   \n",
       "3                Matrix  1999                 466        8.7              136   \n",
       "8               Coringa  2019                1074        8.4              122   \n",
       "\n",
       "              Gênero  \n",
       "1            Romance  \n",
       "4               Ação  \n",
       "7           Fantasia  \n",
       "0              Crime  \n",
       "2  Ficção Científica  \n",
       "9  Ficção Científica  \n",
       "6              Crime  \n",
       "5              Drama  \n",
       "3  Ficção Científica  \n",
       "8              Drama  "
      ]
     },
     "execution_count": 96,
     "metadata": {},
     "output_type": "execute_result"
    }
   ],
   "source": [
    "# ex5\n",
    "df.sort_values(by=\"Duração_Minutos\", ascending=False)"
   ]
  },
  {
   "cell_type": "code",
   "execution_count": 98,
   "metadata": {},
   "outputs": [
    {
     "name": "stdout",
     "output_type": "stream",
     "text": [
      "11146\n"
     ]
    }
   ],
   "source": [
    "# ex6\n",
    "soma = df['Bilheteria_Mundial'].sum()\n",
    "print(soma)"
   ]
  },
  {
   "cell_type": "code",
   "execution_count": 99,
   "metadata": {},
   "outputs": [
    {
     "data": {
      "text/html": [
       "<div>\n",
       "<style scoped>\n",
       "    .dataframe tbody tr th:only-of-type {\n",
       "        vertical-align: middle;\n",
       "    }\n",
       "\n",
       "    .dataframe tbody tr th {\n",
       "        vertical-align: top;\n",
       "    }\n",
       "\n",
       "    .dataframe thead th {\n",
       "        text-align: right;\n",
       "    }\n",
       "</style>\n",
       "<table border=\"1\" class=\"dataframe\">\n",
       "  <thead>\n",
       "    <tr style=\"text-align: right;\">\n",
       "      <th></th>\n",
       "      <th>Título</th>\n",
       "      <th>Ano</th>\n",
       "      <th>Bilheteria_Mundial</th>\n",
       "      <th>Nota_IMDb</th>\n",
       "      <th>Duração_Minutos</th>\n",
       "      <th>Gênero</th>\n",
       "    </tr>\n",
       "  </thead>\n",
       "  <tbody>\n",
       "    <tr>\n",
       "      <th>3</th>\n",
       "      <td>Matrix</td>\n",
       "      <td>1999</td>\n",
       "      <td>466</td>\n",
       "      <td>8.7</td>\n",
       "      <td>136</td>\n",
       "      <td>Ficção Científica</td>\n",
       "    </tr>\n",
       "    <tr>\n",
       "      <th>5</th>\n",
       "      <td>Clube da Luta</td>\n",
       "      <td>1999</td>\n",
       "      <td>101</td>\n",
       "      <td>8.8</td>\n",
       "      <td>139</td>\n",
       "      <td>Drama</td>\n",
       "    </tr>\n",
       "    <tr>\n",
       "      <th>8</th>\n",
       "      <td>Coringa</td>\n",
       "      <td>2019</td>\n",
       "      <td>1074</td>\n",
       "      <td>8.4</td>\n",
       "      <td>122</td>\n",
       "      <td>Drama</td>\n",
       "    </tr>\n",
       "  </tbody>\n",
       "</table>\n",
       "</div>"
      ],
      "text/plain": [
       "          Título   Ano  Bilheteria_Mundial  Nota_IMDb  Duração_Minutos  \\\n",
       "3         Matrix  1999                 466        8.7              136   \n",
       "5  Clube da Luta  1999                 101        8.8              139   \n",
       "8        Coringa  2019                1074        8.4              122   \n",
       "\n",
       "              Gênero  \n",
       "3  Ficção Científica  \n",
       "5              Drama  \n",
       "8              Drama  "
      ]
     },
     "execution_count": 99,
     "metadata": {},
     "output_type": "execute_result"
    }
   ],
   "source": [
    "# ex7\n",
    "df[df['Duração_Minutos'] < 150]"
   ]
  },
  {
   "cell_type": "code",
   "execution_count": 100,
   "metadata": {},
   "outputs": [
    {
     "data": {
      "text/html": [
       "<div>\n",
       "<style scoped>\n",
       "    .dataframe tbody tr th:only-of-type {\n",
       "        vertical-align: middle;\n",
       "    }\n",
       "\n",
       "    .dataframe tbody tr th {\n",
       "        vertical-align: top;\n",
       "    }\n",
       "\n",
       "    .dataframe thead th {\n",
       "        text-align: right;\n",
       "    }\n",
       "</style>\n",
       "<table border=\"1\" class=\"dataframe\">\n",
       "  <thead>\n",
       "    <tr style=\"text-align: right;\">\n",
       "      <th></th>\n",
       "      <th>Título</th>\n",
       "      <th>Ano</th>\n",
       "      <th>Bilheteria_Mundial</th>\n",
       "      <th>Nota_IMDb</th>\n",
       "      <th>Duração_Minutos</th>\n",
       "      <th>Gênero</th>\n",
       "    </tr>\n",
       "  </thead>\n",
       "  <tbody>\n",
       "    <tr>\n",
       "      <th>2</th>\n",
       "      <td>Interestelar</td>\n",
       "      <td>2014</td>\n",
       "      <td>701</td>\n",
       "      <td>8.6</td>\n",
       "      <td>169</td>\n",
       "      <td>Ficção Científica</td>\n",
       "    </tr>\n",
       "    <tr>\n",
       "      <th>4</th>\n",
       "      <td>Vingadores: Ultimato</td>\n",
       "      <td>2019</td>\n",
       "      <td>2798</td>\n",
       "      <td>8.4</td>\n",
       "      <td>181</td>\n",
       "      <td>Ação</td>\n",
       "    </tr>\n",
       "    <tr>\n",
       "      <th>7</th>\n",
       "      <td>O Senhor dos Anéis</td>\n",
       "      <td>2001</td>\n",
       "      <td>2917</td>\n",
       "      <td>8.8</td>\n",
       "      <td>178</td>\n",
       "      <td>Fantasia</td>\n",
       "    </tr>\n",
       "    <tr>\n",
       "      <th>8</th>\n",
       "      <td>Coringa</td>\n",
       "      <td>2019</td>\n",
       "      <td>1074</td>\n",
       "      <td>8.4</td>\n",
       "      <td>122</td>\n",
       "      <td>Drama</td>\n",
       "    </tr>\n",
       "    <tr>\n",
       "      <th>9</th>\n",
       "      <td>Duna</td>\n",
       "      <td>2021</td>\n",
       "      <td>402</td>\n",
       "      <td>8.0</td>\n",
       "      <td>155</td>\n",
       "      <td>Ficção Científica</td>\n",
       "    </tr>\n",
       "  </tbody>\n",
       "</table>\n",
       "</div>"
      ],
      "text/plain": [
       "                 Título   Ano  Bilheteria_Mundial  Nota_IMDb  Duração_Minutos  \\\n",
       "2          Interestelar  2014                 701        8.6              169   \n",
       "4  Vingadores: Ultimato  2019                2798        8.4              181   \n",
       "7    O Senhor dos Anéis  2001                2917        8.8              178   \n",
       "8               Coringa  2019                1074        8.4              122   \n",
       "9                  Duna  2021                 402        8.0              155   \n",
       "\n",
       "              Gênero  \n",
       "2  Ficção Científica  \n",
       "4               Ação  \n",
       "7           Fantasia  \n",
       "8              Drama  \n",
       "9  Ficção Científica  "
      ]
     },
     "execution_count": 100,
     "metadata": {},
     "output_type": "execute_result"
    }
   ],
   "source": [
    "# ex8\n",
    "df[df['Ano'] > 2000]"
   ]
  },
  {
   "cell_type": "code",
   "execution_count": 102,
   "metadata": {},
   "outputs": [
    {
     "name": "stdout",
     "output_type": "stream",
     "text": [
      "160.4\n"
     ]
    }
   ],
   "source": [
    "# ex9\n",
    "media = df['Duração_Minutos'].mean()\n",
    "print(media)"
   ]
  },
  {
   "cell_type": "code",
   "execution_count": 103,
   "metadata": {},
   "outputs": [
    {
     "data": {
      "text/html": [
       "<div>\n",
       "<style scoped>\n",
       "    .dataframe tbody tr th:only-of-type {\n",
       "        vertical-align: middle;\n",
       "    }\n",
       "\n",
       "    .dataframe tbody tr th {\n",
       "        vertical-align: top;\n",
       "    }\n",
       "\n",
       "    .dataframe thead th {\n",
       "        text-align: right;\n",
       "    }\n",
       "</style>\n",
       "<table border=\"1\" class=\"dataframe\">\n",
       "  <thead>\n",
       "    <tr style=\"text-align: right;\">\n",
       "      <th></th>\n",
       "      <th>Título</th>\n",
       "      <th>Ano</th>\n",
       "      <th>Bilheteria_Mundial</th>\n",
       "      <th>Nota_IMDb</th>\n",
       "      <th>Duração_Minutos</th>\n",
       "      <th>Gênero</th>\n",
       "    </tr>\n",
       "  </thead>\n",
       "  <tbody>\n",
       "    <tr>\n",
       "      <th>7</th>\n",
       "      <td>O Senhor dos Anéis</td>\n",
       "      <td>2001</td>\n",
       "      <td>2917</td>\n",
       "      <td>8.8</td>\n",
       "      <td>178</td>\n",
       "      <td>Fantasia</td>\n",
       "    </tr>\n",
       "  </tbody>\n",
       "</table>\n",
       "</div>"
      ],
      "text/plain": [
       "               Título   Ano  Bilheteria_Mundial  Nota_IMDb  Duração_Minutos  \\\n",
       "7  O Senhor dos Anéis  2001                2917        8.8              178   \n",
       "\n",
       "     Gênero  \n",
       "7  Fantasia  "
      ]
     },
     "execution_count": 103,
     "metadata": {},
     "output_type": "execute_result"
    }
   ],
   "source": [
    "# ex10\n",
    "Bilheteria_max = df['Bilheteria_Mundial'].max()\n",
    "\n",
    "df[df['Bilheteria_Mundial']== Bilheteria_max]"
   ]
  }
 ],
 "metadata": {
  "kernelspec": {
   "display_name": "Python 3",
   "language": "python",
   "name": "python3"
  },
  "language_info": {
   "codemirror_mode": {
    "name": "ipython",
    "version": 3
   },
   "file_extension": ".py",
   "mimetype": "text/x-python",
   "name": "python",
   "nbconvert_exporter": "python",
   "pygments_lexer": "ipython3",
   "version": "3.13.0"
  }
 },
 "nbformat": 4,
 "nbformat_minor": 2
}
