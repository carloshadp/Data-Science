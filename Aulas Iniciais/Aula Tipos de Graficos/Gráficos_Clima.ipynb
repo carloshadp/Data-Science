{
 "cells": [
  {
   "cell_type": "code",
   "execution_count": 10,
   "metadata": {},
   "outputs": [
    {
     "data": {
      "text/html": [
       "<div>\n",
       "<style scoped>\n",
       "    .dataframe tbody tr th:only-of-type {\n",
       "        vertical-align: middle;\n",
       "    }\n",
       "\n",
       "    .dataframe tbody tr th {\n",
       "        vertical-align: top;\n",
       "    }\n",
       "\n",
       "    .dataframe thead th {\n",
       "        text-align: right;\n",
       "    }\n",
       "</style>\n",
       "<table border=\"1\" class=\"dataframe\">\n",
       "  <thead>\n",
       "    <tr style=\"text-align: right;\">\n",
       "      <th></th>\n",
       "      <th>ID_Registro</th>\n",
       "      <th>Mês</th>\n",
       "      <th>Temperatura_Média</th>\n",
       "      <th>Precipitação_mm</th>\n",
       "      <th>Velocidade_Vento_kmh</th>\n",
       "      <th>Umidade_Relativa_%</th>\n",
       "      <th>Pressão_Atmosférica_hPa</th>\n",
       "      <th>Número_de_Carros_na_Rua</th>\n",
       "    </tr>\n",
       "  </thead>\n",
       "  <tbody>\n",
       "    <tr>\n",
       "      <th>0</th>\n",
       "      <td>1</td>\n",
       "      <td>Jan</td>\n",
       "      <td>3.184604</td>\n",
       "      <td>152.283114</td>\n",
       "      <td>25.294434</td>\n",
       "      <td>86.417589</td>\n",
       "      <td>999.050160</td>\n",
       "      <td>9176</td>\n",
       "    </tr>\n",
       "    <tr>\n",
       "      <th>1</th>\n",
       "      <td>2</td>\n",
       "      <td>Mai</td>\n",
       "      <td>10.555028</td>\n",
       "      <td>72.722920</td>\n",
       "      <td>30.572712</td>\n",
       "      <td>51.774682</td>\n",
       "      <td>1021.316147</td>\n",
       "      <td>3664</td>\n",
       "    </tr>\n",
       "    <tr>\n",
       "      <th>2</th>\n",
       "      <td>3</td>\n",
       "      <td>Jul</td>\n",
       "      <td>35.355478</td>\n",
       "      <td>34.451047</td>\n",
       "      <td>0.905509</td>\n",
       "      <td>73.446811</td>\n",
       "      <td>1005.268173</td>\n",
       "      <td>1489</td>\n",
       "    </tr>\n",
       "    <tr>\n",
       "      <th>3</th>\n",
       "      <td>4</td>\n",
       "      <td>Jun</td>\n",
       "      <td>16.328274</td>\n",
       "      <td>183.186013</td>\n",
       "      <td>43.606195</td>\n",
       "      <td>36.398744</td>\n",
       "      <td>986.410745</td>\n",
       "      <td>7374</td>\n",
       "    </tr>\n",
       "    <tr>\n",
       "      <th>4</th>\n",
       "      <td>5</td>\n",
       "      <td>Dez</td>\n",
       "      <td>25.040098</td>\n",
       "      <td>86.589166</td>\n",
       "      <td>46.605914</td>\n",
       "      <td>43.451818</td>\n",
       "      <td>1044.211950</td>\n",
       "      <td>924</td>\n",
       "    </tr>\n",
       "  </tbody>\n",
       "</table>\n",
       "</div>"
      ],
      "text/plain": [
       "   ID_Registro  Mês  Temperatura_Média  Precipitação_mm  Velocidade_Vento_kmh  \\\n",
       "0            1  Jan           3.184604       152.283114             25.294434   \n",
       "1            2  Mai          10.555028        72.722920             30.572712   \n",
       "2            3  Jul          35.355478        34.451047              0.905509   \n",
       "3            4  Jun          16.328274       183.186013             43.606195   \n",
       "4            5  Dez          25.040098        86.589166             46.605914   \n",
       "\n",
       "   Umidade_Relativa_%  Pressão_Atmosférica_hPa  Número_de_Carros_na_Rua  \n",
       "0           86.417589               999.050160                     9176  \n",
       "1           51.774682              1021.316147                     3664  \n",
       "2           73.446811              1005.268173                     1489  \n",
       "3           36.398744               986.410745                     7374  \n",
       "4           43.451818              1044.211950                      924  "
      ]
     },
     "execution_count": 10,
     "metadata": {},
     "output_type": "execute_result"
    }
   ],
   "source": [
    "df = pd.read_csv(\"A:/FIAP/2 Sem/MATÉRIAS/Data-Science/Aula Tipos de Graficos/arquivos prof/dataset_clima.csv\")\n",
    "df.head()"
   ]
  },
  {
   "cell_type": "code",
   "execution_count": 12,
   "metadata": {},
   "outputs": [
    {
     "data": {
      "text/plain": [
       "ID_Registro                100\n",
       "Mês                        100\n",
       "Temperatura_Média          100\n",
       "Precipitação_mm            100\n",
       "Velocidade_Vento_kmh       100\n",
       "Umidade_Relativa_%         100\n",
       "Pressão_Atmosférica_hPa    100\n",
       "Número_de_Carros_na_Rua    100\n",
       "dtype: int64"
      ]
     },
     "execution_count": 12,
     "metadata": {},
     "output_type": "execute_result"
    }
   ],
   "source": [
    "df.count()"
   ]
  },
  {
   "cell_type": "code",
   "execution_count": 12,
   "metadata": {},
   "outputs": [
    {
     "ename": "AttributeError",
     "evalue": "module 'matplotlib' has no attribute 'get_data_path'",
     "output_type": "error",
     "traceback": [
      "\u001b[1;31m---------------------------------------------------------------------------\u001b[0m",
      "\u001b[1;31mAttributeError\u001b[0m                            Traceback (most recent call last)",
      "Cell \u001b[1;32mIn[12], line 3\u001b[0m\n\u001b[0;32m      1\u001b[0m \u001b[38;5;66;03m# Recarregar as bibliotecas após a reinicialização do estado\u001b[39;00m\n\u001b[0;32m      2\u001b[0m \u001b[38;5;28;01mimport\u001b[39;00m \u001b[38;5;21;01mpandas\u001b[39;00m \u001b[38;5;28;01mas\u001b[39;00m \u001b[38;5;21;01mpd\u001b[39;00m\n\u001b[1;32m----> 3\u001b[0m \u001b[38;5;28;01mimport\u001b[39;00m \u001b[38;5;21;01mmatplotlib\u001b[39;00m\u001b[38;5;21;01m.\u001b[39;00m\u001b[38;5;21;01mpyplot\u001b[39;00m \u001b[38;5;28;01mas\u001b[39;00m \u001b[38;5;21;01mplt\u001b[39;00m\n\u001b[0;32m      4\u001b[0m \u001b[38;5;28;01mfrom\u001b[39;00m \u001b[38;5;21;01mio\u001b[39;00m \u001b[38;5;28;01mimport\u001b[39;00m StringIO\n\u001b[0;32m      6\u001b[0m \u001b[38;5;66;03m# Recarregar os dados\u001b[39;00m\n",
      "File \u001b[1;32mc:\\Users\\Carlos Henrique\\AppData\\Local\\Programs\\Python\\Python313\\Lib\\site-packages\\matplotlib\\__init__.py:998\u001b[0m\n\u001b[0;32m    992\u001b[0m     _log\u001b[38;5;241m.\u001b[39mdebug(\u001b[38;5;124m'\u001b[39m\u001b[38;5;124mloaded rc file \u001b[39m\u001b[38;5;132;01m%s\u001b[39;00m\u001b[38;5;124m'\u001b[39m, fname)\n\u001b[0;32m    994\u001b[0m     \u001b[38;5;28;01mreturn\u001b[39;00m config\n\u001b[0;32m    997\u001b[0m rcParamsDefault \u001b[38;5;241m=\u001b[39m _rc_params_in_file(\n\u001b[1;32m--> 998\u001b[0m     \u001b[43mcbook\u001b[49m\u001b[38;5;241;43m.\u001b[39;49m\u001b[43m_get_data_path\u001b[49m\u001b[43m(\u001b[49m\u001b[38;5;124;43m\"\u001b[39;49m\u001b[38;5;124;43mmatplotlibrc\u001b[39;49m\u001b[38;5;124;43m\"\u001b[39;49m\u001b[43m)\u001b[49m,\n\u001b[0;32m    999\u001b[0m     \u001b[38;5;66;03m# Strip leading comment.\u001b[39;00m\n\u001b[0;32m   1000\u001b[0m     transform\u001b[38;5;241m=\u001b[39m\u001b[38;5;28;01mlambda\u001b[39;00m line: line[\u001b[38;5;241m1\u001b[39m:] \u001b[38;5;28;01mif\u001b[39;00m line\u001b[38;5;241m.\u001b[39mstartswith(\u001b[38;5;124m\"\u001b[39m\u001b[38;5;124m#\u001b[39m\u001b[38;5;124m\"\u001b[39m) \u001b[38;5;28;01melse\u001b[39;00m line,\n\u001b[0;32m   1001\u001b[0m     fail_on_error\u001b[38;5;241m=\u001b[39m\u001b[38;5;28;01mTrue\u001b[39;00m)\n\u001b[0;32m   1002\u001b[0m rcParamsDefault\u001b[38;5;241m.\u001b[39m_update_raw(rcsetup\u001b[38;5;241m.\u001b[39m_hardcoded_defaults)\n\u001b[0;32m   1003\u001b[0m rcParamsDefault\u001b[38;5;241m.\u001b[39m_ensure_has_backend()\n",
      "File \u001b[1;32mc:\\Users\\Carlos Henrique\\AppData\\Local\\Programs\\Python\\Python313\\Lib\\site-packages\\matplotlib\\cbook.py:603\u001b[0m, in \u001b[0;36m_get_data_path\u001b[1;34m(*args)\u001b[0m\n\u001b[0;32m    597\u001b[0m \u001b[38;5;28;01mdef\u001b[39;00m \u001b[38;5;21m_get_data_path\u001b[39m(\u001b[38;5;241m*\u001b[39margs):\n\u001b[0;32m    598\u001b[0m \u001b[38;5;250m    \u001b[39m\u001b[38;5;124;03m\"\"\"\u001b[39;00m\n\u001b[0;32m    599\u001b[0m \u001b[38;5;124;03m    Return the `pathlib.Path` to a resource file provided by Matplotlib.\u001b[39;00m\n\u001b[0;32m    600\u001b[0m \n\u001b[0;32m    601\u001b[0m \u001b[38;5;124;03m    ``*args`` specify a path relative to the base data path.\u001b[39;00m\n\u001b[0;32m    602\u001b[0m \u001b[38;5;124;03m    \"\"\"\u001b[39;00m\n\u001b[1;32m--> 603\u001b[0m     \u001b[38;5;28;01mreturn\u001b[39;00m Path(\u001b[43mmatplotlib\u001b[49m\u001b[38;5;241;43m.\u001b[39;49m\u001b[43mget_data_path\u001b[49m(), \u001b[38;5;241m*\u001b[39margs)\n",
      "\u001b[1;31mAttributeError\u001b[0m: module 'matplotlib' has no attribute 'get_data_path'"
     ]
    }
   ],
   "source": [
    "# Recarregar as bibliotecas após a reinicialização do estado\n",
    "import pandas as pd\n",
    "import matplotlib.pyplot as plt\n",
    "from io import StringIO\n",
    "\n",
    "# Recarregar os dados\n",
    "data_str = \"\"\"ID_Registro,Mês,Temperatura_Média,Precipitação_mm,Velocidade_Vento_kmh,Umidade_Relativa_%,Pressão_Atmosférica_hPa,Número_de_Carros_na_Rua\n",
    "1,Jan,3.18,152.28,25.29,86.41,999.05,9176\n",
    "2,Mai,10.55,72.72,30.57,51.77,1021.31,3664\n",
    "3,Jul,35.35,34.45,0.90,73.44,1005.26,1489\n",
    "4,Jun,16.32,183.18,43.60,36.39,986.41,7374\n",
    "5,Dez,25.04,86.58,46.60,43.45,1044.21,924\n",
    "6,Jan,2.75,174.37,28.25,91.70,989.57,2365\n",
    "7,Mai,3.65,46.30,34.83,21.04,1046.51,1036\n",
    "8,Mai,-3.16,144.34,46.12,26.84,1011.22,6502\n",
    "9,Jun,2.60,159.77,35.36,36.63,992.95,3945\n",
    "10,Mar,7.53,15.54,7.62,22.12,1017.93,1896\n",
    "\"\"\"\n",
    "\n",
    "# Criar DataFrame\n",
    "# df = pd.read_csv(StringIO(data_str))\n",
    "\n",
    "# Mapear os meses para os trimestres\n",
    "trimestre_map = {\n",
    "    \"Jan\": \"Outono\", \"Fev\": \"Outono\", \"Mar\": \"Outono\",\n",
    "    \"Abr\": \"Inverno\", \"Mai\": \"Inverno\", \"Jun\": \"Inverno\",\n",
    "    \"Jul\": \"Primavera\", \"Ago\": \"Primavera\", \"Set\": \"Primavera\",\n",
    "    \"Out\": \"Verão\", \"Nov\": \"Verão\", \"Dez\": \"Verão\"\n",
    "}\n",
    "\n",
    "df[\"Trimestre\"] = df[\"Mês\"].map(trimestre_map)\n",
    "\n",
    "\n",
    "df_trimestre = df.groupby(\"Trimestre\")[\"Temperatura_Média\"].mean().reindex([\"Outono\", \"Inverno\", \"Primavera\", \"Verão\"])\n",
    "\n",
    "\n",
    "plt.figure(figsize=(8, 5))\n",
    "plt.bar(df_trimestre.index, df_trimestre.values, color='blue', alpha=0.7)\n",
    "plt.xlabel(\"Trimestres\")\n",
    "plt.ylabel(\"Temperatura Média (°C)\")\n",
    "plt.title(\"Temperatura Média por Trimestre\")\n",
    "plt.grid(axis='y', linestyle='--', alpha=0.7)\n",
    "\n",
    "\n",
    "plt.show()\n"
   ]
  },
  {
   "cell_type": "code",
   "execution_count": 13,
   "metadata": {},
   "outputs": [
    {
     "ename": "AttributeError",
     "evalue": "module 'matplotlib' has no attribute 'get_data_path'",
     "output_type": "error",
     "traceback": [
      "\u001b[1;31m---------------------------------------------------------------------------\u001b[0m",
      "\u001b[1;31mAttributeError\u001b[0m                            Traceback (most recent call last)",
      "Cell \u001b[1;32mIn[13], line 1\u001b[0m\n\u001b[1;32m----> 1\u001b[0m \u001b[38;5;28;01mimport\u001b[39;00m \u001b[38;5;21;01mmatplotlib\u001b[39;00m\u001b[38;5;21;01m.\u001b[39;00m\u001b[38;5;21;01mpyplot\u001b[39;00m \u001b[38;5;28;01mas\u001b[39;00m \u001b[38;5;21;01mplt\u001b[39;00m\n\u001b[0;32m      2\u001b[0m plt\u001b[38;5;241m.\u001b[39mfigure(figsize\u001b[38;5;241m=\u001b[39m(\u001b[38;5;241m8\u001b[39m, \u001b[38;5;241m5\u001b[39m))\n\u001b[0;32m      3\u001b[0m scatter \u001b[38;5;241m=\u001b[39m plt\u001b[38;5;241m.\u001b[39mscatter(df[\u001b[38;5;124m\"\u001b[39m\u001b[38;5;124mVelocidade_Vento_kmh\u001b[39m\u001b[38;5;124m\"\u001b[39m], df[\u001b[38;5;124m\"\u001b[39m\u001b[38;5;124mNúmero_de_Carros_na_Rua\u001b[39m\u001b[38;5;124m\"\u001b[39m], \n\u001b[0;32m      4\u001b[0m                       c\u001b[38;5;241m=\u001b[39mdf[\u001b[38;5;124m\"\u001b[39m\u001b[38;5;124mTemperatura_Média\u001b[39m\u001b[38;5;124m\"\u001b[39m], cmap\u001b[38;5;241m=\u001b[39m\u001b[38;5;124m\"\u001b[39m\u001b[38;5;124mcoolwarm\u001b[39m\u001b[38;5;124m\"\u001b[39m, alpha\u001b[38;5;241m=\u001b[39m\u001b[38;5;241m0.7\u001b[39m, edgecolors\u001b[38;5;241m=\u001b[39m\u001b[38;5;124m'\u001b[39m\u001b[38;5;124mk\u001b[39m\u001b[38;5;124m'\u001b[39m)\n",
      "File \u001b[1;32mc:\\Users\\Carlos Henrique\\AppData\\Local\\Programs\\Python\\Python313\\Lib\\site-packages\\matplotlib\\__init__.py:998\u001b[0m\n\u001b[0;32m    992\u001b[0m     _log\u001b[38;5;241m.\u001b[39mdebug(\u001b[38;5;124m'\u001b[39m\u001b[38;5;124mloaded rc file \u001b[39m\u001b[38;5;132;01m%s\u001b[39;00m\u001b[38;5;124m'\u001b[39m, fname)\n\u001b[0;32m    994\u001b[0m     \u001b[38;5;28;01mreturn\u001b[39;00m config\n\u001b[0;32m    997\u001b[0m rcParamsDefault \u001b[38;5;241m=\u001b[39m _rc_params_in_file(\n\u001b[1;32m--> 998\u001b[0m     \u001b[43mcbook\u001b[49m\u001b[38;5;241;43m.\u001b[39;49m\u001b[43m_get_data_path\u001b[49m\u001b[43m(\u001b[49m\u001b[38;5;124;43m\"\u001b[39;49m\u001b[38;5;124;43mmatplotlibrc\u001b[39;49m\u001b[38;5;124;43m\"\u001b[39;49m\u001b[43m)\u001b[49m,\n\u001b[0;32m    999\u001b[0m     \u001b[38;5;66;03m# Strip leading comment.\u001b[39;00m\n\u001b[0;32m   1000\u001b[0m     transform\u001b[38;5;241m=\u001b[39m\u001b[38;5;28;01mlambda\u001b[39;00m line: line[\u001b[38;5;241m1\u001b[39m:] \u001b[38;5;28;01mif\u001b[39;00m line\u001b[38;5;241m.\u001b[39mstartswith(\u001b[38;5;124m\"\u001b[39m\u001b[38;5;124m#\u001b[39m\u001b[38;5;124m\"\u001b[39m) \u001b[38;5;28;01melse\u001b[39;00m line,\n\u001b[0;32m   1001\u001b[0m     fail_on_error\u001b[38;5;241m=\u001b[39m\u001b[38;5;28;01mTrue\u001b[39;00m)\n\u001b[0;32m   1002\u001b[0m rcParamsDefault\u001b[38;5;241m.\u001b[39m_update_raw(rcsetup\u001b[38;5;241m.\u001b[39m_hardcoded_defaults)\n\u001b[0;32m   1003\u001b[0m rcParamsDefault\u001b[38;5;241m.\u001b[39m_ensure_has_backend()\n",
      "File \u001b[1;32mc:\\Users\\Carlos Henrique\\AppData\\Local\\Programs\\Python\\Python313\\Lib\\site-packages\\matplotlib\\cbook.py:603\u001b[0m, in \u001b[0;36m_get_data_path\u001b[1;34m(*args)\u001b[0m\n\u001b[0;32m    597\u001b[0m \u001b[38;5;28;01mdef\u001b[39;00m \u001b[38;5;21m_get_data_path\u001b[39m(\u001b[38;5;241m*\u001b[39margs):\n\u001b[0;32m    598\u001b[0m \u001b[38;5;250m    \u001b[39m\u001b[38;5;124;03m\"\"\"\u001b[39;00m\n\u001b[0;32m    599\u001b[0m \u001b[38;5;124;03m    Return the `pathlib.Path` to a resource file provided by Matplotlib.\u001b[39;00m\n\u001b[0;32m    600\u001b[0m \n\u001b[0;32m    601\u001b[0m \u001b[38;5;124;03m    ``*args`` specify a path relative to the base data path.\u001b[39;00m\n\u001b[0;32m    602\u001b[0m \u001b[38;5;124;03m    \"\"\"\u001b[39;00m\n\u001b[1;32m--> 603\u001b[0m     \u001b[38;5;28;01mreturn\u001b[39;00m Path(\u001b[43mmatplotlib\u001b[49m\u001b[38;5;241;43m.\u001b[39;49m\u001b[43mget_data_path\u001b[49m(), \u001b[38;5;241m*\u001b[39margs)\n",
      "\u001b[1;31mAttributeError\u001b[0m: module 'matplotlib' has no attribute 'get_data_path'"
     ]
    }
   ],
   "source": [
    "import matplotlib.pyplot as plt\n",
    "plt.figure(figsize=(8, 5))\n",
    "scatter = plt.scatter(df[\"Velocidade_Vento_kmh\"], df[\"Número_de_Carros_na_Rua\"], \n",
    "                      c=df[\"Temperatura_Média\"], cmap=\"coolwarm\", alpha=0.7, edgecolors='k')\n",
    "\n",
    "# Adicionar a barra de cores\n",
    "cbar = plt.colorbar(scatter)\n",
    "cbar.set_label(\"Temperatura Média (°C)\")\n",
    "\n",
    "# Configurações do gráfico\n",
    "plt.xlabel(\"Pressão Atmosférica (hPa)\")\n",
    "plt.ylabel(\"Número de Carros na Rua\")\n",
    "plt.title(\"A Pressão Atmosférica Afeta o Clima e o Tráfego?\")\n",
    "plt.grid(True, linestyle='--', alpha=0.5)\n",
    "\n",
    "# Exibir o gráfico\n",
    "plt.show()"
   ]
  },
  {
   "cell_type": "code",
   "execution_count": null,
   "metadata": {},
   "outputs": [],
   "source": []
  }
 ],
 "metadata": {
  "kernelspec": {
   "display_name": "Python 3",
   "language": "python",
   "name": "python3"
  },
  "language_info": {
   "codemirror_mode": {
    "name": "ipython",
    "version": 3
   },
   "file_extension": ".py",
   "mimetype": "text/x-python",
   "name": "python",
   "nbconvert_exporter": "python",
   "pygments_lexer": "ipython3",
   "version": "3.13.0"
  }
 },
 "nbformat": 4,
 "nbformat_minor": 2
}
