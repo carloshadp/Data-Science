{
 "cells": [
  {
   "cell_type": "code",
   "execution_count": 1,
   "metadata": {},
   "outputs": [],
   "source": [
    "import pandas as pd\n",
    "import numpy as np"
   ]
  },
  {
   "cell_type": "code",
   "execution_count": 2,
   "metadata": {},
   "outputs": [
    {
     "data": {
      "text/html": [
       "<div>\n",
       "<style scoped>\n",
       "    .dataframe tbody tr th:only-of-type {\n",
       "        vertical-align: middle;\n",
       "    }\n",
       "\n",
       "    .dataframe tbody tr th {\n",
       "        vertical-align: top;\n",
       "    }\n",
       "\n",
       "    .dataframe thead th {\n",
       "        text-align: right;\n",
       "    }\n",
       "</style>\n",
       "<table border=\"1\" class=\"dataframe\">\n",
       "  <thead>\n",
       "    <tr style=\"text-align: right;\">\n",
       "      <th></th>\n",
       "      <th>Image</th>\n",
       "      <th>Index</th>\n",
       "      <th>Name</th>\n",
       "      <th>Type 1</th>\n",
       "      <th>Type 2</th>\n",
       "      <th>Total</th>\n",
       "      <th>HP</th>\n",
       "      <th>Attack</th>\n",
       "      <th>Defense</th>\n",
       "      <th>SP. Atk.</th>\n",
       "      <th>SP. Def</th>\n",
       "      <th>Speed</th>\n",
       "    </tr>\n",
       "  </thead>\n",
       "  <tbody>\n",
       "    <tr>\n",
       "      <th>1210</th>\n",
       "      <td>images/1211.png</td>\n",
       "      <td>1023</td>\n",
       "      <td>Iron Crown</td>\n",
       "      <td>Steel</td>\n",
       "      <td>Psychic</td>\n",
       "      <td>590</td>\n",
       "      <td>90</td>\n",
       "      <td>72</td>\n",
       "      <td>100</td>\n",
       "      <td>122</td>\n",
       "      <td>108</td>\n",
       "      <td>98</td>\n",
       "    </tr>\n",
       "    <tr>\n",
       "      <th>1211</th>\n",
       "      <td>images/1212.png</td>\n",
       "      <td>1024</td>\n",
       "      <td>Terapagos Normal Form</td>\n",
       "      <td>Normal</td>\n",
       "      <td>NaN</td>\n",
       "      <td>450</td>\n",
       "      <td>90</td>\n",
       "      <td>65</td>\n",
       "      <td>85</td>\n",
       "      <td>65</td>\n",
       "      <td>85</td>\n",
       "      <td>60</td>\n",
       "    </tr>\n",
       "    <tr>\n",
       "      <th>1212</th>\n",
       "      <td>images/1213.png</td>\n",
       "      <td>1024</td>\n",
       "      <td>Terapagos Terastal Form</td>\n",
       "      <td>Normal</td>\n",
       "      <td>NaN</td>\n",
       "      <td>600</td>\n",
       "      <td>95</td>\n",
       "      <td>95</td>\n",
       "      <td>110</td>\n",
       "      <td>105</td>\n",
       "      <td>110</td>\n",
       "      <td>85</td>\n",
       "    </tr>\n",
       "    <tr>\n",
       "      <th>1213</th>\n",
       "      <td>images/1214.png</td>\n",
       "      <td>1024</td>\n",
       "      <td>Terapagos Stellar Form</td>\n",
       "      <td>Normal</td>\n",
       "      <td>NaN</td>\n",
       "      <td>700</td>\n",
       "      <td>160</td>\n",
       "      <td>105</td>\n",
       "      <td>110</td>\n",
       "      <td>130</td>\n",
       "      <td>110</td>\n",
       "      <td>85</td>\n",
       "    </tr>\n",
       "    <tr>\n",
       "      <th>1214</th>\n",
       "      <td>images/1215.png</td>\n",
       "      <td>1025</td>\n",
       "      <td>Pecharunt</td>\n",
       "      <td>Poison</td>\n",
       "      <td>Ghost</td>\n",
       "      <td>600</td>\n",
       "      <td>88</td>\n",
       "      <td>88</td>\n",
       "      <td>160</td>\n",
       "      <td>88</td>\n",
       "      <td>88</td>\n",
       "      <td>88</td>\n",
       "    </tr>\n",
       "  </tbody>\n",
       "</table>\n",
       "</div>"
      ],
      "text/plain": [
       "                Image  Index                     Name  Type 1   Type 2  Total  \\\n",
       "1210  images/1211.png   1023               Iron Crown   Steel  Psychic    590   \n",
       "1211  images/1212.png   1024    Terapagos Normal Form  Normal      NaN    450   \n",
       "1212  images/1213.png   1024  Terapagos Terastal Form  Normal      NaN    600   \n",
       "1213  images/1214.png   1024   Terapagos Stellar Form  Normal      NaN    700   \n",
       "1214  images/1215.png   1025                Pecharunt  Poison    Ghost    600   \n",
       "\n",
       "       HP  Attack  Defense  SP. Atk.  SP. Def  Speed  \n",
       "1210   90      72      100       122      108     98  \n",
       "1211   90      65       85        65       85     60  \n",
       "1212   95      95      110       105      110     85  \n",
       "1213  160     105      110       130      110     85  \n",
       "1214   88      88      160        88       88     88  "
      ]
     },
     "execution_count": 2,
     "metadata": {},
     "output_type": "execute_result"
    }
   ],
   "source": [
    "df = pd.read_csv(\"A:/FIAP/2 Sem/MATÉRIAS/Data-Science/Aula 1 ponto - pre CP1/pokedex.csv\")\n",
    "df.tail()"
   ]
  },
  {
   "cell_type": "code",
   "execution_count": 3,
   "metadata": {},
   "outputs": [
    {
     "name": "stdout",
     "output_type": "stream",
     "text": [
      "1\n"
     ]
    }
   ],
   "source": [
    "Data_total = df[\"Total\"]\n",
    "q1_total, q3_total = np.percentile(Data_total, [25, 75])\n",
    "iqr_total = q1_total - q3_total\n",
    "limite_inferior = q1_total + 1.5 * iqr_total\n",
    "limite_superior = q3_total - 1.5 * iqr_total\n",
    "outliers_total = [x for x in df[\"Total\"] if x < limite_inferior or x > limite_superior]\n",
    "print(len(outliers_total))\n"
   ]
  },
  {
   "cell_type": "code",
   "execution_count": 4,
   "metadata": {},
   "outputs": [
    {
     "name": "stdout",
     "output_type": "stream",
     "text": [
      "27\n"
     ]
    }
   ],
   "source": [
    "q1_hp, q3_hp = np.percentile(df[\"HP\"], [25, 75])\n",
    "iqr_hp = q1_hp - q3_hp\n",
    "limite_inferior = q1_hp + 1.5 * iqr_hp\n",
    "limite_superior = q3_hp - 1.5 * iqr_hp\n",
    "outliers_hp = [x for x in df[\"HP\"] if x < limite_inferior or x > limite_superior]\n",
    "print(len(outliers_hp))"
   ]
  },
  {
   "cell_type": "code",
   "execution_count": 5,
   "metadata": {},
   "outputs": [
    {
     "name": "stdout",
     "output_type": "stream",
     "text": [
      "13\n"
     ]
    }
   ],
   "source": [
    "\n",
    "q1_atk, q3_atk = np.percentile(df[\"Attack\"], [25, 75])\n",
    "iqr_atk = q1_atk - q3_atk\n",
    "limite_inferior = q1_atk + 1.5 * iqr_atk\n",
    "limite_superior = q3_atk - 1.5 * iqr_atk\n",
    "outliers_atk = [x for x in df[\"Attack\"] if x < limite_inferior or x > limite_superior]\n",
    "print(len(outliers_atk))"
   ]
  },
  {
   "cell_type": "code",
   "execution_count": 6,
   "metadata": {},
   "outputs": [
    {
     "name": "stdout",
     "output_type": "stream",
     "text": [
      "25\n"
     ]
    }
   ],
   "source": [
    "Data_def = df[\"Defense\"]\n",
    "q1_def, q3_def = np.percentile(Data_def, [25, 75])\n",
    "iqr_def = q1_def - q3_def\n",
    "limite_inferior = q1_def + 1.5 * iqr_def\n",
    "limite_superior = q3_def - 1.5 * iqr_def\n",
    "outliers_def = [x for x in df[\"Defense\"] if x < limite_inferior or x > limite_superior]\n",
    "print(len(outliers_def))"
   ]
  }
 ],
 "metadata": {
  "kernelspec": {
   "display_name": "Python 3",
   "language": "python",
   "name": "python3"
  },
  "language_info": {
   "codemirror_mode": {
    "name": "ipython",
    "version": 3
   },
   "file_extension": ".py",
   "mimetype": "text/x-python",
   "name": "python",
   "nbconvert_exporter": "python",
   "pygments_lexer": "ipython3",
   "version": "3.13.0"
  }
 },
 "nbformat": 4,
 "nbformat_minor": 2
}
