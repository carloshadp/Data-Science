{
  "cells": [
    {
      "cell_type": "markdown",
      "metadata": {
        "id": "26WNJNpsEu8x"
      },
      "source": [
        "## Exercício 1 — Teste t, variável independente, unicaudal à esquerda (Ex1_Turmas.csv)\n",
        "Enunciado:\n",
        "\n",
        "    Duas turmas diferentes de uma faculdade usaram métodos distintos de estudo para a mesma disciplina.\n",
        "    A Turma A utilizou o método tradicional, enquanto a Turma B usou uma nova técnica ativa.\n",
        "    A coordenação acredita que o novo método reduz o tempo de aprendizado, ou seja, espera-se que a nota da Turma B seja maior.\n",
        "\n",
        "    Você deve testar, com nível de significância de 5%, se a Turma B teve desempenho superior ao da Turma A.\n",
        "\n",
        "## Exercício 2 — Teste t, variável pareada, unicaudal à direita (Ex2_AntesDepois.csv)\n",
        "Enunciado:\n",
        "\n",
        "    Um grupo de 25 alunos foi avaliado antes e depois de participar de um curso intensivo de lógica matemática.\n",
        "    A instituição quer saber se o curso melhorou o desempenho dos alunos.\n",
        "\n",
        "    Use o teste t pareado para verificar se há evidência de aumento significativo nas notas após o curso, considerando α = 0.05.\n",
        "\n",
        "## Exercício 3 — Teste t, variável independente, bicaudal (Ex3_Estresse.csv)\n",
        "Enunciado:\n",
        "\n",
        "    A área de RH quer saber se existe diferença de nível de estresse entre colaboradores do setor de TI e do setor de RH.\n",
        "    Não há expectativa prévia sobre qual setor apresenta mais estresse — pode ser qualquer um.\n",
        "\n",
        "    Faça um teste t bicaudal para avaliar se os dois setores diferem em termos de estresse médio.\n",
        "\n",
        "## Exercício 4 — Teste t com 1 amostra (ttest_1samp) (Ex4_TempoEspera.csv)\n",
        "Enunciado:\n",
        "\n",
        "    A empresa afirma que o tempo médio de espera para atendimento no SAC é de 15 minutos.\n",
        "    Você coletou dados reais de 40 clientes e quer testar se o tempo médio atual é significativamente diferente do declarado.\n",
        "\n",
        "    Use o teste t para uma amostra e nível de significância de 5%."
      ]
    },
    {
      "cell_type": "code",
      "execution_count": null,
      "metadata": {},
      "outputs": [],
      "source": [
        "from scipy.stats import ttest_ind, ttest_rel, ttest_1samp # ttest_rel = PAREADO - ttest_ind = INDEPENDENTE - ttest_1samp = SAMPLE / AMOSTRA, popmean (Media populacional)\n",
        "import numpy as np\n",
        "import pandas as pd"
      ]
    },
    {
      "cell_type": "markdown",
      "metadata": {},
      "source": [
        "#EXERCÍCIO 1"
      ]
    },
    {
      "cell_type": "code",
      "execution_count": null,
      "metadata": {
        "id": "RCj6u0RtEs4y"
      },
      "outputs": [
        {
          "data": {
            "text/plain": [
              "30    68.991467\n",
              "31    81.261391\n",
              "32    71.932514\n",
              "33    66.711445\n",
              "34    76.112725\n",
              "35    65.895782\n",
              "36    73.044318\n",
              "37    62.201649\n",
              "38    65.359070\n",
              "39    72.984306\n",
              "40    75.692333\n",
              "41    72.856841\n",
              "42    71.421759\n",
              "43    70.494482\n",
              "44    64.607390\n",
              "45    68.400779\n",
              "46    69.696806\n",
              "47    77.285611\n",
              "48    73.718091\n",
              "49    63.184799\n",
              "50    73.620420\n",
              "51    70.074589\n",
              "52    68.615390\n",
              "53    75.058381\n",
              "54    77.154998\n",
              "55    76.656401\n",
              "56    67.803912\n",
              "57    70.453938\n",
              "58    73.656317\n",
              "59    76.877726\n",
              "Name: Nota, dtype: float64"
            ]
          },
          "execution_count": 8,
          "metadata": {},
          "output_type": "execute_result"
        }
      ],
      "source": [
        "#EXERCÍCIO 1\n",
        "df = pd.read_csv(\"A://FIAP//2 Ano//MATÉRIAS//Data-Science//10-19 Estatisticas e Pre CP2//10.01 Testes de Hipoteses//Ex1_Turmas.csv\")\n",
        "turma_A = df[df[\"Turma\"] == \"A\"][\"Nota\"]\n",
        "turma_B = df[df[\"Turma\"] == \"B\"][\"Nota\"]\n",
        "\n",
        "t_stat, p_bilateral = ttest_ind(turma_A, turma_B)"
      ]
    },
    {
      "cell_type": "markdown",
      "metadata": {},
      "source": [
        "#EXERCÍCIO 2\n"
      ]
    },
    {
      "cell_type": "code",
      "execution_count": null,
      "metadata": {},
      "outputs": [],
      "source": [
        "#EXERCÍCIO 2\n"
      ]
    },
    {
      "cell_type": "markdown",
      "metadata": {},
      "source": [
        "#EXERCÍCIO 3"
      ]
    },
    {
      "cell_type": "code",
      "execution_count": null,
      "metadata": {},
      "outputs": [],
      "source": [
        "#EXERCÍCIO 3"
      ]
    },
    {
      "cell_type": "markdown",
      "metadata": {},
      "source": [
        "#EXERCÍCIO 4"
      ]
    },
    {
      "cell_type": "code",
      "execution_count": null,
      "metadata": {},
      "outputs": [],
      "source": [
        "#EXERCÍCIO 4"
      ]
    }
  ],
  "metadata": {
    "colab": {
      "provenance": []
    },
    "kernelspec": {
      "display_name": "Python 3",
      "name": "python3"
    },
    "language_info": {
      "codemirror_mode": {
        "name": "ipython",
        "version": 3
      },
      "file_extension": ".py",
      "mimetype": "text/x-python",
      "name": "python",
      "nbconvert_exporter": "python",
      "pygments_lexer": "ipython3",
      "version": "3.13.0"
    }
  },
  "nbformat": 4,
  "nbformat_minor": 0
}
